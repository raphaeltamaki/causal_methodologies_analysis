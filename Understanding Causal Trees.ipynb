{
 "cells": [
  {
   "cell_type": "code",
   "execution_count": 1,
   "id": "76d14cd0",
   "metadata": {},
   "outputs": [
    {
     "name": "stderr",
     "output_type": "stream",
     "text": [
      "/Users/raphaeltamaki/Documents/personal_git/causal_venv/lib/python3.9/site-packages/shap/utils/_clustering.py:35: NumbaDeprecationWarning: The 'nopython' keyword argument was not supplied to the 'numba.jit' decorator. The implicit default value for this argument is currently False, but it will be changed to True in Numba 0.59.0. See https://numba.readthedocs.io/en/stable/reference/deprecation.html#deprecation-of-object-mode-fall-back-behaviour-when-using-jit for details.\n",
      "  def _pt_shuffle_rec(i, indexes, index_mask, partition_tree, M, pos):\n",
      "/Users/raphaeltamaki/Documents/personal_git/causal_venv/lib/python3.9/site-packages/shap/utils/_clustering.py:54: NumbaDeprecationWarning: The 'nopython' keyword argument was not supplied to the 'numba.jit' decorator. The implicit default value for this argument is currently False, but it will be changed to True in Numba 0.59.0. See https://numba.readthedocs.io/en/stable/reference/deprecation.html#deprecation-of-object-mode-fall-back-behaviour-when-using-jit for details.\n",
      "  def delta_minimization_order(all_masks, max_swap_size=100, num_passes=2):\n",
      "/Users/raphaeltamaki/Documents/personal_git/causal_venv/lib/python3.9/site-packages/shap/utils/_clustering.py:63: NumbaDeprecationWarning: The 'nopython' keyword argument was not supplied to the 'numba.jit' decorator. The implicit default value for this argument is currently False, but it will be changed to True in Numba 0.59.0. See https://numba.readthedocs.io/en/stable/reference/deprecation.html#deprecation-of-object-mode-fall-back-behaviour-when-using-jit for details.\n",
      "  def _reverse_window(order, start, length):\n",
      "/Users/raphaeltamaki/Documents/personal_git/causal_venv/lib/python3.9/site-packages/shap/utils/_clustering.py:69: NumbaDeprecationWarning: The 'nopython' keyword argument was not supplied to the 'numba.jit' decorator. The implicit default value for this argument is currently False, but it will be changed to True in Numba 0.59.0. See https://numba.readthedocs.io/en/stable/reference/deprecation.html#deprecation-of-object-mode-fall-back-behaviour-when-using-jit for details.\n",
      "  def _reverse_window_score_gain(masks, order, start, length):\n",
      "/Users/raphaeltamaki/Documents/personal_git/causal_venv/lib/python3.9/site-packages/shap/utils/_clustering.py:77: NumbaDeprecationWarning: The 'nopython' keyword argument was not supplied to the 'numba.jit' decorator. The implicit default value for this argument is currently False, but it will be changed to True in Numba 0.59.0. See https://numba.readthedocs.io/en/stable/reference/deprecation.html#deprecation-of-object-mode-fall-back-behaviour-when-using-jit for details.\n",
      "  def _mask_delta_score(m1, m2):\n",
      "/Users/raphaeltamaki/Documents/personal_git/causal_venv/lib/python3.9/site-packages/shap/links.py:5: NumbaDeprecationWarning: The 'nopython' keyword argument was not supplied to the 'numba.jit' decorator. The implicit default value for this argument is currently False, but it will be changed to True in Numba 0.59.0. See https://numba.readthedocs.io/en/stable/reference/deprecation.html#deprecation-of-object-mode-fall-back-behaviour-when-using-jit for details.\n",
      "  def identity(x):\n",
      "/Users/raphaeltamaki/Documents/personal_git/causal_venv/lib/python3.9/site-packages/shap/links.py:10: NumbaDeprecationWarning: The 'nopython' keyword argument was not supplied to the 'numba.jit' decorator. The implicit default value for this argument is currently False, but it will be changed to True in Numba 0.59.0. See https://numba.readthedocs.io/en/stable/reference/deprecation.html#deprecation-of-object-mode-fall-back-behaviour-when-using-jit for details.\n",
      "  def _identity_inverse(x):\n",
      "/Users/raphaeltamaki/Documents/personal_git/causal_venv/lib/python3.9/site-packages/shap/links.py:15: NumbaDeprecationWarning: The 'nopython' keyword argument was not supplied to the 'numba.jit' decorator. The implicit default value for this argument is currently False, but it will be changed to True in Numba 0.59.0. See https://numba.readthedocs.io/en/stable/reference/deprecation.html#deprecation-of-object-mode-fall-back-behaviour-when-using-jit for details.\n",
      "  def logit(x):\n",
      "/Users/raphaeltamaki/Documents/personal_git/causal_venv/lib/python3.9/site-packages/shap/links.py:20: NumbaDeprecationWarning: The 'nopython' keyword argument was not supplied to the 'numba.jit' decorator. The implicit default value for this argument is currently False, but it will be changed to True in Numba 0.59.0. See https://numba.readthedocs.io/en/stable/reference/deprecation.html#deprecation-of-object-mode-fall-back-behaviour-when-using-jit for details.\n",
      "  def _logit_inverse(x):\n",
      "/Users/raphaeltamaki/Documents/personal_git/causal_venv/lib/python3.9/site-packages/shap/utils/_masked_model.py:363: NumbaDeprecationWarning: The 'nopython' keyword argument was not supplied to the 'numba.jit' decorator. The implicit default value for this argument is currently False, but it will be changed to True in Numba 0.59.0. See https://numba.readthedocs.io/en/stable/reference/deprecation.html#deprecation-of-object-mode-fall-back-behaviour-when-using-jit for details.\n",
      "  def _build_fixed_single_output(averaged_outs, last_outs, outputs, batch_positions, varying_rows, num_varying_rows, link, linearizing_weights):\n",
      "/Users/raphaeltamaki/Documents/personal_git/causal_venv/lib/python3.9/site-packages/shap/utils/_masked_model.py:385: NumbaDeprecationWarning: The 'nopython' keyword argument was not supplied to the 'numba.jit' decorator. The implicit default value for this argument is currently False, but it will be changed to True in Numba 0.59.0. See https://numba.readthedocs.io/en/stable/reference/deprecation.html#deprecation-of-object-mode-fall-back-behaviour-when-using-jit for details.\n",
      "  def _build_fixed_multi_output(averaged_outs, last_outs, outputs, batch_positions, varying_rows, num_varying_rows, link, linearizing_weights):\n",
      "/Users/raphaeltamaki/Documents/personal_git/causal_venv/lib/python3.9/site-packages/shap/utils/_masked_model.py:428: NumbaDeprecationWarning: The 'nopython' keyword argument was not supplied to the 'numba.jit' decorator. The implicit default value for this argument is currently False, but it will be changed to True in Numba 0.59.0. See https://numba.readthedocs.io/en/stable/reference/deprecation.html#deprecation-of-object-mode-fall-back-behaviour-when-using-jit for details.\n",
      "  def _init_masks(cluster_matrix, M, indices_row_pos, indptr):\n",
      "/Users/raphaeltamaki/Documents/personal_git/causal_venv/lib/python3.9/site-packages/shap/utils/_masked_model.py:439: NumbaDeprecationWarning: The 'nopython' keyword argument was not supplied to the 'numba.jit' decorator. The implicit default value for this argument is currently False, but it will be changed to True in Numba 0.59.0. See https://numba.readthedocs.io/en/stable/reference/deprecation.html#deprecation-of-object-mode-fall-back-behaviour-when-using-jit for details.\n",
      "  def _rec_fill_masks(cluster_matrix, indices_row_pos, indptr, indices, M, ind):\n",
      "/Users/raphaeltamaki/Documents/personal_git/causal_venv/lib/python3.9/site-packages/shap/maskers/_tabular.py:186: NumbaDeprecationWarning: The 'nopython' keyword argument was not supplied to the 'numba.jit' decorator. The implicit default value for this argument is currently False, but it will be changed to True in Numba 0.59.0. See https://numba.readthedocs.io/en/stable/reference/deprecation.html#deprecation-of-object-mode-fall-back-behaviour-when-using-jit for details.\n",
      "  def _single_delta_mask(dind, masked_inputs, last_mask, data, x, noop_code):\n",
      "/Users/raphaeltamaki/Documents/personal_git/causal_venv/lib/python3.9/site-packages/shap/maskers/_tabular.py:197: NumbaDeprecationWarning: The 'nopython' keyword argument was not supplied to the 'numba.jit' decorator. The implicit default value for this argument is currently False, but it will be changed to True in Numba 0.59.0. See https://numba.readthedocs.io/en/stable/reference/deprecation.html#deprecation-of-object-mode-fall-back-behaviour-when-using-jit for details.\n",
      "  def _delta_masking(masks, x, curr_delta_inds, varying_rows_out,\n",
      "/Users/raphaeltamaki/Documents/personal_git/causal_venv/lib/python3.9/site-packages/shap/maskers/_image.py:175: NumbaDeprecationWarning: The 'nopython' keyword argument was not supplied to the 'numba.jit' decorator. The implicit default value for this argument is currently False, but it will be changed to True in Numba 0.59.0. See https://numba.readthedocs.io/en/stable/reference/deprecation.html#deprecation-of-object-mode-fall-back-behaviour-when-using-jit for details.\n",
      "  def _jit_build_partition_tree(xmin, xmax, ymin, ymax, zmin, zmax, total_ywidth, total_zwidth, M, clustering, q):\n"
     ]
    },
    {
     "name": "stderr",
     "output_type": "stream",
     "text": [
      "/Users/raphaeltamaki/Documents/personal_git/causal_venv/lib/python3.9/site-packages/shap/explainers/_partition.py:676: NumbaDeprecationWarning: The 'nopython' keyword argument was not supplied to the 'numba.jit' decorator. The implicit default value for this argument is currently False, but it will be changed to True in Numba 0.59.0. See https://numba.readthedocs.io/en/stable/reference/deprecation.html#deprecation-of-object-mode-fall-back-behaviour-when-using-jit for details.\n",
      "  def lower_credit(i, value, M, values, clustering):\n",
      "The 'nopython' keyword argument was not supplied to the 'numba.jit' decorator. The implicit default value for this argument is currently False, but it will be changed to True in Numba 0.59.0. See https://numba.readthedocs.io/en/stable/reference/deprecation.html#deprecation-of-object-mode-fall-back-behaviour-when-using-jit for details.\n",
      "The 'nopython' keyword argument was not supplied to the 'numba.jit' decorator. The implicit default value for this argument is currently False, but it will be changed to True in Numba 0.59.0. See https://numba.readthedocs.io/en/stable/reference/deprecation.html#deprecation-of-object-mode-fall-back-behaviour-when-using-jit for details.\n"
     ]
    }
   ],
   "source": [
    "%matplotlib inline\n",
    "import pandas as pd\n",
    "import numpy as np\n",
    "import importlib\n",
    "import causal_examples\n",
    "from sklearn.inspection import PartialDependenceDisplay\n",
    "from sklearn.metrics import r2_score\n",
    "from sklearn.tree import DecisionTreeRegressor\n",
    "from sklearn.linear_model import LinearRegression\n",
    "from econml.dml import CausalForestDML\n",
    "from econml.cate_interpreter import SingleTreeCateInterpreter\n",
    "import matplotlib.pyplot as plt\n",
    "\n",
    "# importlib.reload(causal_examples)\n",
    "\n",
    "rng = np.random.default_rng()"
   ]
  },
  {
   "cell_type": "markdown",
   "id": "83b3db12",
   "metadata": {},
   "source": [
    "### Drug -> Blood Pressure -> Heart Attack"
   ]
  },
  {
   "cell_type": "code",
   "execution_count": 2,
   "id": "8aae9029",
   "metadata": {},
   "outputs": [
    {
     "data": {
      "text/html": [
       "<div>\n",
       "<style scoped>\n",
       "    .dataframe tbody tr th:only-of-type {\n",
       "        vertical-align: middle;\n",
       "    }\n",
       "\n",
       "    .dataframe tbody tr th {\n",
       "        vertical-align: top;\n",
       "    }\n",
       "\n",
       "    .dataframe thead th {\n",
       "        text-align: right;\n",
       "    }\n",
       "</style>\n",
       "<table border=\"1\" class=\"dataframe\">\n",
       "  <thead>\n",
       "    <tr style=\"text-align: right;\">\n",
       "      <th></th>\n",
       "      <th>took_drug</th>\n",
       "      <th>low_blood_pressure</th>\n",
       "      <th>heart_attack</th>\n",
       "    </tr>\n",
       "  </thead>\n",
       "  <tbody>\n",
       "    <tr>\n",
       "      <th>0</th>\n",
       "      <td>1</td>\n",
       "      <td>1</td>\n",
       "      <td>0</td>\n",
       "    </tr>\n",
       "    <tr>\n",
       "      <th>1</th>\n",
       "      <td>1</td>\n",
       "      <td>1</td>\n",
       "      <td>0</td>\n",
       "    </tr>\n",
       "    <tr>\n",
       "      <th>2</th>\n",
       "      <td>0</td>\n",
       "      <td>1</td>\n",
       "      <td>0</td>\n",
       "    </tr>\n",
       "    <tr>\n",
       "      <th>3</th>\n",
       "      <td>1</td>\n",
       "      <td>1</td>\n",
       "      <td>0</td>\n",
       "    </tr>\n",
       "    <tr>\n",
       "      <th>4</th>\n",
       "      <td>0</td>\n",
       "      <td>0</td>\n",
       "      <td>0</td>\n",
       "    </tr>\n",
       "  </tbody>\n",
       "</table>\n",
       "</div>"
      ],
      "text/plain": [
       "   took_drug  low_blood_pressure  heart_attack\n",
       "0          1                   1             0\n",
       "1          1                   1             0\n",
       "2          0                   1             0\n",
       "3          1                   1             0\n",
       "4          0                   0             0"
      ]
     },
     "execution_count": 2,
     "metadata": {},
     "output_type": "execute_result"
    }
   ],
   "source": [
    "data = causal_examples.BloodPressureExample().generate_effects()\n",
    "X = data[['took_drug', 'low_blood_pressure']].copy()\n",
    "y = data['heart_attack']\n",
    "# X = data[['took_drug']].copy()\n",
    "# y = data['low_blood_pressure']\n",
    "data.head()"
   ]
  },
  {
   "cell_type": "markdown",
   "id": "79315d50",
   "metadata": {},
   "source": [
    "### Linear Regression"
   ]
  },
  {
   "cell_type": "code",
   "execution_count": 3,
   "id": "ca8c9853",
   "metadata": {},
   "outputs": [
    {
     "data": {
      "text/plain": [
       "array([-0.00088735, -0.00420062])"
      ]
     },
     "execution_count": 3,
     "metadata": {},
     "output_type": "execute_result"
    }
   ],
   "source": [
    "reg = LinearRegression()\n",
    "reg.fit(X, y)\n",
    "reg.coef_"
   ]
  },
  {
   "cell_type": "markdown",
   "id": "10391f71",
   "metadata": {},
   "source": [
    "### Decision Tree"
   ]
  },
  {
   "cell_type": "code",
   "execution_count": 4,
   "id": "08bfea21",
   "metadata": {},
   "outputs": [
    {
     "data": {
      "text/plain": [
       "array([0.03823242, 0.96176758])"
      ]
     },
     "execution_count": 4,
     "metadata": {},
     "output_type": "execute_result"
    }
   ],
   "source": [
    "tree = DecisionTreeRegressor()\n",
    "tree.fit(X, y)\n",
    "r2_score(tree.predict(X), y)\n",
    "tree.feature_importances_"
   ]
  },
  {
   "cell_type": "code",
   "execution_count": 5,
   "id": "67b06e4b",
   "metadata": {},
   "outputs": [
    {
     "data": {
      "text/plain": [
       "<sklearn.inspection._plot.partial_dependence.PartialDependenceDisplay at 0x7f8e398a2130>"
      ]
     },
     "execution_count": 5,
     "metadata": {},
     "output_type": "execute_result"
    }
   ],
   "source": [
    "PartialDependenceDisplay.from_estimator(tree, X, ['took_drug'])"
   ]
  },
  {
   "cell_type": "markdown",
   "id": "ca97686b",
   "metadata": {},
   "source": [
    "### Causal Tree"
   ]
  },
  {
   "cell_type": "code",
   "execution_count": 6,
   "id": "2d61f72c",
   "metadata": {},
   "outputs": [],
   "source": [
    "causal_model = CausalForestDML(n_estimators=1, subforest_size=1, inference=False, max_depth=4)\n",
    "causal_model = causal_model.fit(Y=y, X=X, T=data['took_drug'])"
   ]
  },
  {
   "cell_type": "code",
   "execution_count": 7,
   "id": "b5811a3c",
   "metadata": {},
   "outputs": [],
   "source": [
    "intrp = SingleTreeCateInterpreter(max_depth=2).interpret(causal_model, X)\n",
    "intrp.plot(feature_names=X.columns, fontsize=12)"
   ]
  },
  {
   "cell_type": "code",
   "execution_count": 8,
   "id": "d8a95af0",
   "metadata": {},
   "outputs": [
    {
     "data": {
      "text/plain": [
       "712.6537463785409"
      ]
     },
     "execution_count": 8,
     "metadata": {},
     "output_type": "execute_result"
    }
   ],
   "source": [
    "np.mean(causal_model.ate(X))"
   ]
  },
  {
   "cell_type": "markdown",
   "id": "c74a28cb",
   "metadata": {},
   "source": [
    "## Discount Ticket"
   ]
  },
  {
   "cell_type": "code",
   "execution_count": 9,
   "id": "89ad6fba",
   "metadata": {},
   "outputs": [
    {
     "data": {
      "text/html": [
       "<div>\n",
       "<style scoped>\n",
       "    .dataframe tbody tr th:only-of-type {\n",
       "        vertical-align: middle;\n",
       "    }\n",
       "\n",
       "    .dataframe tbody tr th {\n",
       "        vertical-align: top;\n",
       "    }\n",
       "\n",
       "    .dataframe thead th {\n",
       "        text-align: right;\n",
       "    }\n",
       "</style>\n",
       "<table border=\"1\" class=\"dataframe\">\n",
       "  <thead>\n",
       "    <tr style=\"text-align: right;\">\n",
       "      <th></th>\n",
       "      <th>income</th>\n",
       "      <th>ticket</th>\n",
       "      <th>spend</th>\n",
       "    </tr>\n",
       "  </thead>\n",
       "  <tbody>\n",
       "    <tr>\n",
       "      <th>0</th>\n",
       "      <td>1361.189186</td>\n",
       "      <td>0.000000</td>\n",
       "      <td>472.237837</td>\n",
       "    </tr>\n",
       "    <tr>\n",
       "      <th>1</th>\n",
       "      <td>1340.725844</td>\n",
       "      <td>0.000000</td>\n",
       "      <td>468.145169</td>\n",
       "    </tr>\n",
       "    <tr>\n",
       "      <th>2</th>\n",
       "      <td>841.318675</td>\n",
       "      <td>0.000000</td>\n",
       "      <td>368.263735</td>\n",
       "    </tr>\n",
       "    <tr>\n",
       "      <th>3</th>\n",
       "      <td>704.762148</td>\n",
       "      <td>0.141731</td>\n",
       "      <td>369.298693</td>\n",
       "    </tr>\n",
       "    <tr>\n",
       "      <th>4</th>\n",
       "      <td>972.739205</td>\n",
       "      <td>0.000000</td>\n",
       "      <td>394.547841</td>\n",
       "    </tr>\n",
       "  </tbody>\n",
       "</table>\n",
       "</div>"
      ],
      "text/plain": [
       "        income    ticket       spend\n",
       "0  1361.189186  0.000000  472.237837\n",
       "1  1340.725844  0.000000  468.145169\n",
       "2   841.318675  0.000000  368.263735\n",
       "3   704.762148  0.141731  369.298693\n",
       "4   972.739205  0.000000  394.547841"
      ]
     },
     "execution_count": 9,
     "metadata": {},
     "output_type": "execute_result"
    }
   ],
   "source": [
    "importlib.reload(causal_examples)\n",
    "data = causal_examples.DiscountTicket().generate_effects()\n",
    "X = data[['income', 'ticket']].copy()\n",
    "y = data['spend']\n",
    "\n",
    "data.head()"
   ]
  },
  {
   "cell_type": "markdown",
   "id": "aa6eac0b",
   "metadata": {},
   "source": [
    "### Linear Regression"
   ]
  },
  {
   "cell_type": "code",
   "execution_count": 10,
   "id": "4e45287c",
   "metadata": {},
   "outputs": [
    {
     "data": {
      "text/plain": [
       "array([  0.2, 200. ])"
      ]
     },
     "execution_count": 10,
     "metadata": {},
     "output_type": "execute_result"
    }
   ],
   "source": [
    "from sklearn.linear_model import LinearRegression\n",
    "reg = LinearRegression()\n",
    "reg.fit(X, y)\n",
    "reg.coef_"
   ]
  },
  {
   "cell_type": "code",
   "execution_count": 11,
   "id": "e7477f5e",
   "metadata": {},
   "outputs": [
    {
     "name": "stderr",
     "output_type": "stream",
     "text": [
      "Attempting to set identical low and high ylims makes transformation singular; automatically expanding.\n"
     ]
    },
    {
     "data": {
      "text/plain": [
       "<sklearn.inspection._plot.partial_dependence.PartialDependenceDisplay at 0x7f8ea99798e0>"
      ]
     },
     "execution_count": 11,
     "metadata": {},
     "output_type": "execute_result"
    }
   ],
   "source": [
    "PartialDependenceDisplay.from_estimator(tree, X, ['ticket'])"
   ]
  },
  {
   "cell_type": "markdown",
   "id": "b7e39339",
   "metadata": {},
   "source": [
    "### Decision Tree"
   ]
  },
  {
   "cell_type": "code",
   "execution_count": 12,
   "id": "60c5b803",
   "metadata": {},
   "outputs": [
    {
     "data": {
      "text/plain": [
       "array([0.91549573, 0.08450427])"
      ]
     },
     "execution_count": 12,
     "metadata": {},
     "output_type": "execute_result"
    }
   ],
   "source": [
    "\n",
    "tree = DecisionTreeRegressor()\n",
    "tree.fit(X, y)\n",
    "r2_score(tree.predict(X), y)\n",
    "tree.feature_importances_"
   ]
  },
  {
   "cell_type": "code",
   "execution_count": 13,
   "id": "989c3808",
   "metadata": {},
   "outputs": [
    {
     "data": {
      "text/plain": [
       "<sklearn.inspection._plot.partial_dependence.PartialDependenceDisplay at 0x7f8ea9979070>"
      ]
     },
     "execution_count": 13,
     "metadata": {},
     "output_type": "execute_result"
    }
   ],
   "source": [
    "PartialDependenceDisplay.from_estimator(tree, X, ['ticket'])"
   ]
  },
  {
   "cell_type": "markdown",
   "id": "56eb7fbd",
   "metadata": {},
   "source": [
    "### Causal Tree"
   ]
  },
  {
   "cell_type": "code",
   "execution_count": 14,
   "id": "26f23f96",
   "metadata": {},
   "outputs": [],
   "source": [
    "causal_model = CausalForestDML(n_estimators=1, subforest_size=1, inference=False, max_depth=4)\n",
    "causal_model = causal_model.fit(Y=y, X=X, T=data['ticket'])"
   ]
  },
  {
   "cell_type": "code",
   "execution_count": 15,
   "id": "0b2b7d1e",
   "metadata": {},
   "outputs": [],
   "source": [
    "intrp = SingleTreeCateInterpreter(max_depth=2).interpret(causal_model, X)\n",
    "intrp.plot(feature_names=X.columns, fontsize=12)"
   ]
  },
  {
   "cell_type": "code",
   "execution_count": 16,
   "id": "47f13b29",
   "metadata": {},
   "outputs": [
    {
     "data": {
      "text/plain": [
       "200.63834877142006"
      ]
     },
     "execution_count": 16,
     "metadata": {},
     "output_type": "execute_result"
    }
   ],
   "source": [
    "np.mean(causal_model.ate(X))"
   ]
  },
  {
   "cell_type": "code",
   "execution_count": 17,
   "id": "caca03e7",
   "metadata": {},
   "outputs": [
    {
     "ename": "AttributeError",
     "evalue": "'CausalForestDML' object has no attribute 'add_treatment_effect'",
     "output_type": "error",
     "traceback": [
      "\u001b[0;31m---------------------------------------------------------------------------\u001b[0m",
      "\u001b[0;31mAttributeError\u001b[0m                            Traceback (most recent call last)",
      "Cell \u001b[0;32mIn[17], line 1\u001b[0m\n\u001b[0;32m----> 1\u001b[0m \u001b[43mcausal_model\u001b[49m\u001b[38;5;241;43m.\u001b[39;49m\u001b[43madd_treatment_effect\u001b[49m(X\u001b[38;5;241m.\u001b[39mcopy())\n",
      "\u001b[0;31mAttributeError\u001b[0m: 'CausalForestDML' object has no attribute 'add_treatment_effect'"
     ]
    }
   ],
   "source": [
    "causal_model.add_treatment_effect(X.copy())"
   ]
  },
  {
   "cell_type": "code",
   "execution_count": 36,
   "id": "febf51b8",
   "metadata": {},
   "outputs": [
    {
     "data": {
      "application/vnd.jupyter.widget-view+json": {
       "model_id": "e9310e396df94cf88e93f959b1855c76",
       "version_major": 2,
       "version_minor": 0
      },
      "text/plain": [
       "Dropdown(description='First Widget:', options=('Option 1', 'Option 2', 'Option 3'), value='Option 1')"
      ]
     },
     "metadata": {},
     "output_type": "display_data"
    },
    {
     "data": {
      "application/vnd.jupyter.widget-view+json": {
       "model_id": "7e3dd0af4f904d788394c85c69bd5b0a",
       "version_major": 2,
       "version_minor": 0
      },
      "text/plain": [
       "Output()"
      ]
     },
     "metadata": {},
     "output_type": "display_data"
    }
   ],
   "source": [
    "from ipywidgets import interact, interactive, fixed, VBox, Output\n",
    "import ipywidgets as widgets\n",
    "\n",
    "# Define the initial widgets\n",
    "first_widget = widgets.Dropdown(\n",
    "    options=['Option 1', 'Option 2', 'Option 3'],\n",
    "    description='First Widget:'\n",
    ")\n",
    "\n",
    "second_widget = widgets.IntSlider(\n",
    "    min=0, max=10, step=1, description='Second Widget:'\n",
    ")\n",
    "\n",
    "third_widget = widgets.Text(\n",
    "    description='Third Widget:'\n",
    ")\n",
    "\n",
    "output = Output()  # Create an Output widget for displaying the widget container\n",
    "\n",
    "def update_widgets(change):\n",
    "    # Get the selected value of the first widget\n",
    "    selected_value = first_widget.value\n",
    "\n",
    "    # Clear the output area and display the updated widget container\n",
    "    with output:\n",
    "        output.clear_output()\n",
    "        if selected_value == 'Option 1':\n",
    "            display(VBox([second_widget]))\n",
    "        elif selected_value == 'Option 2':\n",
    "            display(VBox([third_widget]))\n",
    "\n",
    "# Register the callback function to the first widget's `observe` method\n",
    "first_widget.observe(update_widgets, 'value')\n",
    "\n",
    "# Display the initial widgets\n",
    "display(first_widget)\n",
    "display(output)  # Display the output widget for displaying the widget container\n"
   ]
  },
  {
   "cell_type": "code",
   "execution_count": 37,
   "id": "164ddc8c",
   "metadata": {},
   "outputs": [],
   "source": [
    "?widgets.Dropdown"
   ]
  },
  {
   "cell_type": "code",
   "execution_count": null,
   "id": "05a17d7c",
   "metadata": {},
   "outputs": [],
   "source": []
  }
 ],
 "metadata": {
  "kernelspec": {
   "display_name": "Python 3 (ipykernel)",
   "language": "python",
   "name": "python3"
  },
  "language_info": {
   "codemirror_mode": {
    "name": "ipython",
    "version": 3
   },
   "file_extension": ".py",
   "mimetype": "text/x-python",
   "name": "python",
   "nbconvert_exporter": "python",
   "pygments_lexer": "ipython3",
   "version": "3.9.13"
  }
 },
 "nbformat": 4,
 "nbformat_minor": 5
}
