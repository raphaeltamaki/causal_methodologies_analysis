{
 "cells": [
  {
   "cell_type": "markdown",
   "metadata": {},
   "source": [
    "# Almost Perfect: A Discussion on Quasi-Experiments Techniques\n",
    "\n",
    "Quasi-experiments are experiments that leverage the principle from randomized tests, but are not equivalent\n",
    "\n",
    "Any technique that can be used to estimate causal effects from observational data can be used to extract the causal effect from an quasi-experiment. The use of these causal inferences techniques in quasi-experiments is the reduction in the variance and bias of the calculated ATT (or ATE), similarly to the effect these techniques in randomized experiments. \n",
    "\n",
    "However, one of the biggest problems with using causal inference techniques is that they inevitably rely on assumptions about the causal links between variables. While there are advancements in causal discovery, in practice one never consider all possible configurations between cofounding, treatment, and target variables. Instead, we basically always create a Directed Acyclic Graph (DAG) to lay out the causal relationships in such way that the scientists behind, their piers, and clients are satisfied with.\n",
    "\n",
    "\n",
    "\n",
    "\"CUPED is just linear regression using a pre-experimental covariate.\"[2]\n",
    "\n",
    "Following, we give a quick overview of the methods we cover in this benchmark, for a better in-depth understading of each method, we provide multiple contents where you can learn more about them\n",
    "\n",
    "TL:DR:\n",
    "- the best technique is XXXXXXX\n",
    "- but it is still worse than when using an ensemble of (XXXXXXXXX) by XXXXXXX\n",
    "- backtest with historical data to assess accuracy of ATT estimating model\n",
    "- you can use previous randomized tests to calibrate hyperparameters (and possible even the parameters themselves) of your models\n",
    "\n",
    "# Techniques Overview\n",
    "\n",
    "## Matching + Differences-in-Differences (CausalPy)\n",
    "\n",
    "### Propensity Score\n",
    "\n",
    "### Mahalanobis Distance\n",
    "\n",
    "## (Augmented) Synthetic Control (CausalPy & GeoLift)\n",
    "\n",
    "## Meta-Learners (CausalML)\n",
    "    \n",
    "## Double ML (EconML)\n",
    "\n",
    "## Uplift-Trees (CausalML)\n",
    "\n",
    "## Do Method (DoWhy)\n",
    "\n",
    "# Comparisons\n",
    "## Methodology\n",
    "\n",
    "## Datasets\n",
    "- [Iowa Licor Sales](https://www.kaggle.com/datasets/residentmario/iowa-liquor-sales)\n",
    "- [Wallmart Dataset](https://www.kaggle.com/datasets/yasserh/walmart-dataset)\n",
    "- [Supermarket Sales](https://www.kaggle.com/datasets/aungpyaeap/supermarket-sales)\n",
    "- [Superstore Sales Dataset](https://www.kaggle.com/datasets/rohitsahoo/sales-forecasting)\n",
    "- [Lifetime Value](https://www.kaggle.com/datasets/baetulo/lifetime-value)\n",
    "\n",
    "## Example: Iowa Licor Sales\n",
    "\n",
    "\n",
    "# Hacks: Improving your models\n",
    "\n",
    "## Backtest using historic data\n",
    "\n",
    "## Calibrate using previous randomized tests\n",
    "\n",
    "## Don't limit yourself with just one model\n",
    "Similar to how in typical machine-learning contests the winning contestant usually consists of an ensemble model of distinct methodologies (e.g. neural-networks and tree-based models), we also reduce performance of ATT when using multiple models. Below is a comparison between using either XXXXXXX or XXXXX to using both.\n",
    "\n",
    "# References\n",
    "1) [Causal Inference, The Mixtape](https://mixtape.scunning.com)\n",
    "2) [Causality, Judea Pearl](https://www.amazon.co.uk/Causality-Judea-Pearl/dp/052189560X/ref=sr_1_1?crid=1KVB0KSO1OWMO&keywords=causality+judea&qid=1705423557&sprefix=causality+judea%2Caps%2C78&sr=8-1)\n",
    "3) [Causal Inference in Statistics, Judea Pearl, Madelyn Glymour, Nicholas P. Jewell](https://www.amazon.co.uk/Causal-Inference-Statistics-Judea-Pearl/dp/1119186846/ref=sr_1_1?crid=1SP7ANTNKW60K&keywords=causal+inference+in+statistics&qid=1705423576&sprefix=causal+inference+in+%2Caps%2C81&sr=8-1)\n",
    "4) [Variance reduction in experiments using covariate adjustment techniques](https://medium.com/glovo-engineering/variance-reduction-in-experiments-using-covariate-adjustment-techniques-717b1e450185)\n",
    "5) [How Booking.com increases the power of online experiments with CUPED](https://booking.ai/how-booking-com-increases-the-power-of-online-experiments-with-cuped-995d186fff1d)\n",
    "6) [CausalML](https://causalml.readthedocs.io/en/latest/index.html)\n",
    "7) [EconML](https://econml.azurewebsites.net/index.html)\n",
    "8) [CausalPy](https://causalpy.readthedocs.io/en/latest/)\n",
    "9) [DoWhy](https://www.pywhy.org/dowhy/v0.11.1/#)"
   ]
  },
  {
   "cell_type": "code",
   "execution_count": 1,
   "metadata": {},
   "outputs": [
    {
     "name": "stdout",
     "output_type": "stream",
     "text": [
      "Getting iowa_licor_sales dataset\n",
      "Dataset iowa_licor_sales already present\n",
      "\n",
      "Getting wallmart_sales dataset\n",
      "Dataset wallmart_sales already present\n",
      "\n",
      "Getting supermarket_sales dataset\n",
      "Dataset supermarket_sales already present\n",
      "\n",
      "Getting superstore_sales dataset\n",
      "Dataset superstore_sales already present\n",
      "\n",
      "Getting lifetime_value dataset\n",
      "Dataset lifetime_value already present\n",
      "\n"
     ]
    }
   ],
   "source": [
    "from src.data.load import DataLoader\n",
    "from pathlib import Path\n",
    "\n",
    "loader = DataLoader('data')\n",
    "loader.get_data()"
   ]
  },
  {
   "cell_type": "code",
   "execution_count": 2,
   "metadata": {},
   "outputs": [],
   "source": [
    "from src.data.data_formatter import SupermarketSalesFormatter, IowaLicorSalesFormatter, WallmartSalesFormatter, SuperstoreSalesFormatter, LifetimeValueFormatter\n",
    "\n",
    "dataset_formatters = {\n",
    "    'supermarket_sales': SupermarketSalesFormatter(),\n",
    "    'iowa_licor_sales': IowaLicorSalesFormatter(),\n",
    "    'wallmart_sales': WallmartSalesFormatter(),\n",
    "    'superstore_sales': SuperstoreSalesFormatter(),\n",
    "    'lifetime_value': LifetimeValueFormatter()\n",
    "    }\n",
    "\n",
    "# Test if all are running\n",
    "for dataset_name, formatter in dataset_formatters.items():\n",
    "    formatter.fit_transform(loader.load_dataset(dataset_name).head())"
   ]
  },
  {
   "cell_type": "code",
   "execution_count": null,
   "metadata": {},
   "outputs": [],
   "source": []
  },
  {
   "cell_type": "code",
   "execution_count": 3,
   "metadata": {},
   "outputs": [
    {
     "name": "stderr",
     "output_type": "stream",
     "text": [
      "/Users/raphaeltamaki/Documents/personal_git/causal_methodologies_analysis/src/data/experiment_setup.py:47: MapWithoutReturnDtypeWarning: Calling `map_elements` without specifying `return_dtype` can lead to unpredictable results. Specify `return_dtype` to silence this warning.\n",
      "  self.treatment_effect = data.select(pl.col(\"City\").map_elements(treatment_effect_method))\n"
     ]
    },
    {
     "data": {
      "text/html": [
       "<div><style>\n",
       ".dataframe > thead > tr,\n",
       ".dataframe > tbody > tr {\n",
       "  text-align: right;\n",
       "  white-space: pre-wrap;\n",
       "}\n",
       "</style>\n",
       "<small>shape: (1_000, 17)</small><table border=\"1\" class=\"dataframe\"><thead><tr><th>Invoice ID</th><th>Branch</th><th>City</th><th>Customer type</th><th>Gender</th><th>Product line</th><th>Unit price</th><th>Quantity</th><th>Tax 5%</th><th>Total</th><th>Date</th><th>Time</th><th>Payment</th><th>cogs</th><th>gross margin percentage</th><th>gross income</th><th>Rating</th></tr><tr><td>str</td><td>str</td><td>str</td><td>str</td><td>str</td><td>str</td><td>f64</td><td>i64</td><td>f64</td><td>f64</td><td>str</td><td>str</td><td>str</td><td>f64</td><td>f64</td><td>f64</td><td>f64</td></tr></thead><tbody><tr><td>&quot;750-67-8428&quot;</td><td>&quot;A&quot;</td><td>&quot;Yangon&quot;</td><td>&quot;Member&quot;</td><td>&quot;Female&quot;</td><td>&quot;Health and bea…</td><td>74.69</td><td>7</td><td>26.1415</td><td>603.86865</td><td>&quot;1/5/2019&quot;</td><td>&quot;13:08&quot;</td><td>&quot;Ewallet&quot;</td><td>522.83</td><td>4.761905</td><td>26.1415</td><td>9.1</td></tr><tr><td>&quot;226-31-3081&quot;</td><td>&quot;C&quot;</td><td>&quot;Naypyitaw&quot;</td><td>&quot;Normal&quot;</td><td>&quot;Female&quot;</td><td>&quot;Electronic acc…</td><td>15.28</td><td>5</td><td>3.82</td><td>80.22</td><td>&quot;3/8/2019&quot;</td><td>&quot;10:29&quot;</td><td>&quot;Cash&quot;</td><td>76.4</td><td>4.761905</td><td>3.82</td><td>9.6</td></tr><tr><td>&quot;631-41-3108&quot;</td><td>&quot;A&quot;</td><td>&quot;Yangon&quot;</td><td>&quot;Normal&quot;</td><td>&quot;Male&quot;</td><td>&quot;Home and lifes…</td><td>46.33</td><td>7</td><td>16.2155</td><td>374.57805</td><td>&quot;3/3/2019&quot;</td><td>&quot;13:23&quot;</td><td>&quot;Credit card&quot;</td><td>324.31</td><td>4.761905</td><td>16.2155</td><td>7.4</td></tr><tr><td>&quot;123-19-1176&quot;</td><td>&quot;A&quot;</td><td>&quot;Yangon&quot;</td><td>&quot;Member&quot;</td><td>&quot;Male&quot;</td><td>&quot;Health and bea…</td><td>58.22</td><td>8</td><td>23.288</td><td>537.9528</td><td>&quot;1/27/2019&quot;</td><td>&quot;20:33&quot;</td><td>&quot;Ewallet&quot;</td><td>465.76</td><td>4.761905</td><td>23.288</td><td>8.4</td></tr><tr><td>&quot;373-73-7910&quot;</td><td>&quot;A&quot;</td><td>&quot;Yangon&quot;</td><td>&quot;Normal&quot;</td><td>&quot;Male&quot;</td><td>&quot;Sports and tra…</td><td>86.31</td><td>7</td><td>30.2085</td><td>697.81635</td><td>&quot;2/8/2019&quot;</td><td>&quot;10:37&quot;</td><td>&quot;Ewallet&quot;</td><td>604.17</td><td>4.761905</td><td>30.2085</td><td>5.3</td></tr><tr><td>&hellip;</td><td>&hellip;</td><td>&hellip;</td><td>&hellip;</td><td>&hellip;</td><td>&hellip;</td><td>&hellip;</td><td>&hellip;</td><td>&hellip;</td><td>&hellip;</td><td>&hellip;</td><td>&hellip;</td><td>&hellip;</td><td>&hellip;</td><td>&hellip;</td><td>&hellip;</td><td>&hellip;</td></tr><tr><td>&quot;233-67-5758&quot;</td><td>&quot;C&quot;</td><td>&quot;Naypyitaw&quot;</td><td>&quot;Normal&quot;</td><td>&quot;Male&quot;</td><td>&quot;Health and bea…</td><td>40.35</td><td>1</td><td>2.0175</td><td>42.3675</td><td>&quot;1/29/2019&quot;</td><td>&quot;13:46&quot;</td><td>&quot;Ewallet&quot;</td><td>40.35</td><td>4.761905</td><td>2.0175</td><td>6.2</td></tr><tr><td>&quot;303-96-2227&quot;</td><td>&quot;B&quot;</td><td>&quot;Mandalay&quot;</td><td>&quot;Normal&quot;</td><td>&quot;Female&quot;</td><td>&quot;Home and lifes…</td><td>97.38</td><td>10</td><td>48.69</td><td>1022.49</td><td>&quot;3/2/2019&quot;</td><td>&quot;17:16&quot;</td><td>&quot;Ewallet&quot;</td><td>973.8</td><td>4.761905</td><td>48.69</td><td>4.4</td></tr><tr><td>&quot;727-02-1313&quot;</td><td>&quot;A&quot;</td><td>&quot;Yangon&quot;</td><td>&quot;Member&quot;</td><td>&quot;Male&quot;</td><td>&quot;Food and bever…</td><td>31.84</td><td>1</td><td>1.592</td><td>36.7752</td><td>&quot;2/9/2019&quot;</td><td>&quot;13:22&quot;</td><td>&quot;Cash&quot;</td><td>31.84</td><td>4.761905</td><td>1.592</td><td>7.7</td></tr><tr><td>&quot;347-56-2442&quot;</td><td>&quot;A&quot;</td><td>&quot;Yangon&quot;</td><td>&quot;Normal&quot;</td><td>&quot;Male&quot;</td><td>&quot;Home and lifes…</td><td>65.82</td><td>1</td><td>3.291</td><td>76.0221</td><td>&quot;2/22/2019&quot;</td><td>&quot;15:33&quot;</td><td>&quot;Cash&quot;</td><td>65.82</td><td>4.761905</td><td>3.291</td><td>4.1</td></tr><tr><td>&quot;849-09-3807&quot;</td><td>&quot;A&quot;</td><td>&quot;Yangon&quot;</td><td>&quot;Member&quot;</td><td>&quot;Female&quot;</td><td>&quot;Fashion access…</td><td>88.34</td><td>7</td><td>30.919</td><td>714.2289</td><td>&quot;2/18/2019&quot;</td><td>&quot;13:28&quot;</td><td>&quot;Cash&quot;</td><td>618.38</td><td>4.761905</td><td>30.919</td><td>6.6</td></tr></tbody></table></div>"
      ],
      "text/plain": [
       "shape: (1_000, 17)\n",
       "┌─────────────┬────────┬───────────┬──────────┬───┬────────┬───────────────┬──────────────┬────────┐\n",
       "│ Invoice ID  ┆ Branch ┆ City      ┆ Customer ┆ … ┆ cogs   ┆ gross margin  ┆ gross income ┆ Rating │\n",
       "│ ---         ┆ ---    ┆ ---       ┆ type     ┆   ┆ ---    ┆ percentage    ┆ ---          ┆ ---    │\n",
       "│ str         ┆ str    ┆ str       ┆ ---      ┆   ┆ f64    ┆ ---           ┆ f64          ┆ f64    │\n",
       "│             ┆        ┆           ┆ str      ┆   ┆        ┆ f64           ┆              ┆        │\n",
       "╞═════════════╪════════╪═══════════╪══════════╪═══╪════════╪═══════════════╪══════════════╪════════╡\n",
       "│ 750-67-8428 ┆ A      ┆ Yangon    ┆ Member   ┆ … ┆ 522.83 ┆ 4.761905      ┆ 26.1415      ┆ 9.1    │\n",
       "│ 226-31-3081 ┆ C      ┆ Naypyitaw ┆ Normal   ┆ … ┆ 76.4   ┆ 4.761905      ┆ 3.82         ┆ 9.6    │\n",
       "│ 631-41-3108 ┆ A      ┆ Yangon    ┆ Normal   ┆ … ┆ 324.31 ┆ 4.761905      ┆ 16.2155      ┆ 7.4    │\n",
       "│ 123-19-1176 ┆ A      ┆ Yangon    ┆ Member   ┆ … ┆ 465.76 ┆ 4.761905      ┆ 23.288       ┆ 8.4    │\n",
       "│ 373-73-7910 ┆ A      ┆ Yangon    ┆ Normal   ┆ … ┆ 604.17 ┆ 4.761905      ┆ 30.2085      ┆ 5.3    │\n",
       "│ …           ┆ …      ┆ …         ┆ …        ┆ … ┆ …      ┆ …             ┆ …            ┆ …      │\n",
       "│ 233-67-5758 ┆ C      ┆ Naypyitaw ┆ Normal   ┆ … ┆ 40.35  ┆ 4.761905      ┆ 2.0175       ┆ 6.2    │\n",
       "│ 303-96-2227 ┆ B      ┆ Mandalay  ┆ Normal   ┆ … ┆ 973.8  ┆ 4.761905      ┆ 48.69        ┆ 4.4    │\n",
       "│ 727-02-1313 ┆ A      ┆ Yangon    ┆ Member   ┆ … ┆ 31.84  ┆ 4.761905      ┆ 1.592        ┆ 7.7    │\n",
       "│ 347-56-2442 ┆ A      ┆ Yangon    ┆ Normal   ┆ … ┆ 65.82  ┆ 4.761905      ┆ 3.291        ┆ 4.1    │\n",
       "│ 849-09-3807 ┆ A      ┆ Yangon    ┆ Member   ┆ … ┆ 618.38 ┆ 4.761905      ┆ 30.919       ┆ 6.6    │\n",
       "└─────────────┴────────┴───────────┴──────────┴───┴────────┴───────────────┴──────────────┴────────┘"
      ]
     },
     "execution_count": 3,
     "metadata": {},
     "output_type": "execute_result"
    }
   ],
   "source": [
    "from src.data.experiment_setup import ExperimentSetup\n",
    "\n",
    "def z(x):\n",
    "    return 0.1 if x == 'Yangon' else 0\n",
    "\n",
    "setup = ExperimentSetup(\n",
    "    SupermarketSalesFormatter().date_col,\n",
    "    SupermarketSalesFormatter().target_col,\n",
    "    \"2019-01-01\",\n",
    "    \"2019-02-01\",\n",
    "    SupermarketSalesFormatter().treatment_col,\n",
    "    [\"Yangon\"]\n",
    "    )\n",
    "\n",
    "treated_data = setup.apply_treatment(loader.load_dataset('supermarket_sales'), z)\n",
    "treated_data"
   ]
  },
  {
   "cell_type": "code",
   "execution_count": null,
   "metadata": {},
   "outputs": [],
   "source": []
  },
  {
   "cell_type": "code",
   "execution_count": 4,
   "metadata": {},
   "outputs": [
    {
     "data": {
      "text/html": [
       "<div><style>\n",
       ".dataframe > thead > tr,\n",
       ".dataframe > tbody > tr {\n",
       "  text-align: right;\n",
       "  white-space: pre-wrap;\n",
       "}\n",
       "</style>\n",
       "<small>shape: (1_000, 9)</small><table border=\"1\" class=\"dataframe\"><thead><tr><th>Product line</th><th>Date</th><th>Invoice ID</th><th>Payment</th><th>Gender</th><th>Branch</th><th>Total</th><th>Customer type</th><th>City</th></tr><tr><td>str</td><td>datetime[μs]</td><td>str</td><td>str</td><td>str</td><td>str</td><td>f64</td><td>str</td><td>str</td></tr></thead><tbody><tr><td>&quot;Health and bea…</td><td>2019-01-05 00:00:00</td><td>&quot;750-67-8428&quot;</td><td>&quot;Ewallet&quot;</td><td>&quot;Female&quot;</td><td>&quot;A&quot;</td><td>603.86865</td><td>&quot;Member&quot;</td><td>&quot;Yangon&quot;</td></tr><tr><td>&quot;Electronic acc…</td><td>2019-03-08 00:00:00</td><td>&quot;226-31-3081&quot;</td><td>&quot;Cash&quot;</td><td>&quot;Female&quot;</td><td>&quot;C&quot;</td><td>80.22</td><td>&quot;Normal&quot;</td><td>&quot;Naypyitaw&quot;</td></tr><tr><td>&quot;Home and lifes…</td><td>2019-03-03 00:00:00</td><td>&quot;631-41-3108&quot;</td><td>&quot;Credit card&quot;</td><td>&quot;Male&quot;</td><td>&quot;A&quot;</td><td>374.57805</td><td>&quot;Normal&quot;</td><td>&quot;Yangon&quot;</td></tr><tr><td>&quot;Health and bea…</td><td>2019-01-27 00:00:00</td><td>&quot;123-19-1176&quot;</td><td>&quot;Ewallet&quot;</td><td>&quot;Male&quot;</td><td>&quot;A&quot;</td><td>537.9528</td><td>&quot;Member&quot;</td><td>&quot;Yangon&quot;</td></tr><tr><td>&quot;Sports and tra…</td><td>2019-02-08 00:00:00</td><td>&quot;373-73-7910&quot;</td><td>&quot;Ewallet&quot;</td><td>&quot;Male&quot;</td><td>&quot;A&quot;</td><td>697.81635</td><td>&quot;Normal&quot;</td><td>&quot;Yangon&quot;</td></tr><tr><td>&hellip;</td><td>&hellip;</td><td>&hellip;</td><td>&hellip;</td><td>&hellip;</td><td>&hellip;</td><td>&hellip;</td><td>&hellip;</td><td>&hellip;</td></tr><tr><td>&quot;Health and bea…</td><td>2019-01-29 00:00:00</td><td>&quot;233-67-5758&quot;</td><td>&quot;Ewallet&quot;</td><td>&quot;Male&quot;</td><td>&quot;C&quot;</td><td>42.3675</td><td>&quot;Normal&quot;</td><td>&quot;Naypyitaw&quot;</td></tr><tr><td>&quot;Home and lifes…</td><td>2019-03-02 00:00:00</td><td>&quot;303-96-2227&quot;</td><td>&quot;Ewallet&quot;</td><td>&quot;Female&quot;</td><td>&quot;B&quot;</td><td>1022.49</td><td>&quot;Normal&quot;</td><td>&quot;Mandalay&quot;</td></tr><tr><td>&quot;Food and bever…</td><td>2019-02-09 00:00:00</td><td>&quot;727-02-1313&quot;</td><td>&quot;Cash&quot;</td><td>&quot;Male&quot;</td><td>&quot;A&quot;</td><td>36.7752</td><td>&quot;Member&quot;</td><td>&quot;Yangon&quot;</td></tr><tr><td>&quot;Home and lifes…</td><td>2019-02-22 00:00:00</td><td>&quot;347-56-2442&quot;</td><td>&quot;Cash&quot;</td><td>&quot;Male&quot;</td><td>&quot;A&quot;</td><td>76.0221</td><td>&quot;Normal&quot;</td><td>&quot;Yangon&quot;</td></tr><tr><td>&quot;Fashion access…</td><td>2019-02-18 00:00:00</td><td>&quot;849-09-3807&quot;</td><td>&quot;Cash&quot;</td><td>&quot;Female&quot;</td><td>&quot;A&quot;</td><td>714.2289</td><td>&quot;Member&quot;</td><td>&quot;Yangon&quot;</td></tr></tbody></table></div>"
      ],
      "text/plain": [
       "shape: (1_000, 9)\n",
       "┌────────────┬────────────┬───────────┬───────────┬───┬────────┬───────────┬───────────┬───────────┐\n",
       "│ Product    ┆ Date       ┆ Invoice   ┆ Payment   ┆ … ┆ Branch ┆ Total     ┆ Customer  ┆ City      │\n",
       "│ line       ┆ ---        ┆ ID        ┆ ---       ┆   ┆ ---    ┆ ---       ┆ type      ┆ ---       │\n",
       "│ ---        ┆ datetime[μ ┆ ---       ┆ str       ┆   ┆ str    ┆ f64       ┆ ---       ┆ str       │\n",
       "│ str        ┆ s]         ┆ str       ┆           ┆   ┆        ┆           ┆ str       ┆           │\n",
       "╞════════════╪════════════╪═══════════╪═══════════╪═══╪════════╪═══════════╪═══════════╪═══════════╡\n",
       "│ Health and ┆ 2019-01-05 ┆ 750-67-84 ┆ Ewallet   ┆ … ┆ A      ┆ 603.86865 ┆ Member    ┆ Yangon    │\n",
       "│ beauty     ┆ 00:00:00   ┆ 28        ┆           ┆   ┆        ┆           ┆           ┆           │\n",
       "│ Electronic ┆ 2019-03-08 ┆ 226-31-30 ┆ Cash      ┆ … ┆ C      ┆ 80.22     ┆ Normal    ┆ Naypyitaw │\n",
       "│ accessorie ┆ 00:00:00   ┆ 81        ┆           ┆   ┆        ┆           ┆           ┆           │\n",
       "│ s          ┆            ┆           ┆           ┆   ┆        ┆           ┆           ┆           │\n",
       "│ Home and   ┆ 2019-03-03 ┆ 631-41-31 ┆ Credit    ┆ … ┆ A      ┆ 374.57805 ┆ Normal    ┆ Yangon    │\n",
       "│ lifestyle  ┆ 00:00:00   ┆ 08        ┆ card      ┆   ┆        ┆           ┆           ┆           │\n",
       "│ Health and ┆ 2019-01-27 ┆ 123-19-11 ┆ Ewallet   ┆ … ┆ A      ┆ 537.9528  ┆ Member    ┆ Yangon    │\n",
       "│ beauty     ┆ 00:00:00   ┆ 76        ┆           ┆   ┆        ┆           ┆           ┆           │\n",
       "│ Sports and ┆ 2019-02-08 ┆ 373-73-79 ┆ Ewallet   ┆ … ┆ A      ┆ 697.81635 ┆ Normal    ┆ Yangon    │\n",
       "│ travel     ┆ 00:00:00   ┆ 10        ┆           ┆   ┆        ┆           ┆           ┆           │\n",
       "│ …          ┆ …          ┆ …         ┆ …         ┆ … ┆ …      ┆ …         ┆ …         ┆ …         │\n",
       "│ Health and ┆ 2019-01-29 ┆ 233-67-57 ┆ Ewallet   ┆ … ┆ C      ┆ 42.3675   ┆ Normal    ┆ Naypyitaw │\n",
       "│ beauty     ┆ 00:00:00   ┆ 58        ┆           ┆   ┆        ┆           ┆           ┆           │\n",
       "│ Home and   ┆ 2019-03-02 ┆ 303-96-22 ┆ Ewallet   ┆ … ┆ B      ┆ 1022.49   ┆ Normal    ┆ Mandalay  │\n",
       "│ lifestyle  ┆ 00:00:00   ┆ 27        ┆           ┆   ┆        ┆           ┆           ┆           │\n",
       "│ Food and   ┆ 2019-02-09 ┆ 727-02-13 ┆ Cash      ┆ … ┆ A      ┆ 36.7752   ┆ Member    ┆ Yangon    │\n",
       "│ beverages  ┆ 00:00:00   ┆ 13        ┆           ┆   ┆        ┆           ┆           ┆           │\n",
       "│ Home and   ┆ 2019-02-22 ┆ 347-56-24 ┆ Cash      ┆ … ┆ A      ┆ 76.0221   ┆ Normal    ┆ Yangon    │\n",
       "│ lifestyle  ┆ 00:00:00   ┆ 42        ┆           ┆   ┆        ┆           ┆           ┆           │\n",
       "│ Fashion    ┆ 2019-02-18 ┆ 849-09-38 ┆ Cash      ┆ … ┆ A      ┆ 714.2289  ┆ Member    ┆ Yangon    │\n",
       "│ accessorie ┆ 00:00:00   ┆ 07        ┆           ┆   ┆        ┆           ┆           ┆           │\n",
       "│ s          ┆            ┆           ┆           ┆   ┆        ┆           ┆           ┆           │\n",
       "└────────────┴────────────┴───────────┴───────────┴───┴────────┴───────────┴───────────┴───────────┘"
      ]
     },
     "execution_count": 4,
     "metadata": {},
     "output_type": "execute_result"
    }
   ],
   "source": [
    "formatted_data = SupermarketSalesFormatter().fit_transform(treated_data)\n",
    "formatted_data"
   ]
  },
  {
   "cell_type": "code",
   "execution_count": 6,
   "metadata": {},
   "outputs": [
    {
     "data": {
      "text/html": [
       "<div><style>\n",
       ".dataframe > thead > tr,\n",
       ".dataframe > tbody > tr {\n",
       "  text-align: right;\n",
       "  white-space: pre-wrap;\n",
       "}\n",
       "</style>\n",
       "<small>shape: (263, 3)</small><table border=\"1\" class=\"dataframe\"><thead><tr><th>id</th><th>date</th><th>value</th></tr><tr><td>str</td><td>datetime[μs]</td><td>f64</td></tr></thead><tbody><tr><td>&quot;Yangon&quot;</td><td>2019-02-18 00:00:00</td><td>-0.35404</td></tr><tr><td>&quot;Yangon&quot;</td><td>2019-03-19 00:00:00</td><td>0.946138</td></tr><tr><td>&quot;Naypyitaw&quot;</td><td>2019-01-09 00:00:00</td><td>1.827146</td></tr><tr><td>&quot;Mandalay&quot;</td><td>2019-02-17 00:00:00</td><td>-0.427871</td></tr><tr><td>&quot;Naypyitaw&quot;</td><td>2019-02-18 00:00:00</td><td>-0.947871</td></tr><tr><td>&hellip;</td><td>&hellip;</td><td>&hellip;</td></tr><tr><td>&quot;Naypyitaw&quot;</td><td>2019-03-16 00:00:00</td><td>0.018371</td></tr><tr><td>&quot;Mandalay&quot;</td><td>2019-01-28 00:00:00</td><td>2.113695</td></tr><tr><td>&quot;Mandalay&quot;</td><td>2019-02-02 00:00:00</td><td>0.417523</td></tr><tr><td>&quot;Mandalay&quot;</td><td>2019-01-24 00:00:00</td><td>1.532236</td></tr><tr><td>&quot;Mandalay&quot;</td><td>2019-03-11 00:00:00</td><td>-0.838021</td></tr></tbody></table></div>"
      ],
      "text/plain": [
       "shape: (263, 3)\n",
       "┌───────────┬─────────────────────┬───────────┐\n",
       "│ id        ┆ date                ┆ value     │\n",
       "│ ---       ┆ ---                 ┆ ---       │\n",
       "│ str       ┆ datetime[μs]        ┆ f64       │\n",
       "╞═══════════╪═════════════════════╪═══════════╡\n",
       "│ Yangon    ┆ 2019-02-18 00:00:00 ┆ -0.35404  │\n",
       "│ Yangon    ┆ 2019-03-19 00:00:00 ┆ 0.946138  │\n",
       "│ Naypyitaw ┆ 2019-01-09 00:00:00 ┆ 1.827146  │\n",
       "│ Mandalay  ┆ 2019-02-17 00:00:00 ┆ -0.427871 │\n",
       "│ Naypyitaw ┆ 2019-02-18 00:00:00 ┆ -0.947871 │\n",
       "│ …         ┆ …                   ┆ …         │\n",
       "│ Naypyitaw ┆ 2019-03-16 00:00:00 ┆ 0.018371  │\n",
       "│ Mandalay  ┆ 2019-01-28 00:00:00 ┆ 2.113695  │\n",
       "│ Mandalay  ┆ 2019-02-02 00:00:00 ┆ 0.417523  │\n",
       "│ Mandalay  ┆ 2019-01-24 00:00:00 ┆ 1.532236  │\n",
       "│ Mandalay  ┆ 2019-03-11 00:00:00 ┆ -0.838021 │\n",
       "└───────────┴─────────────────────┴───────────┘"
      ]
     },
     "execution_count": 6,
     "metadata": {},
     "output_type": "execute_result"
    }
   ],
   "source": [
    "\n",
    "from src.models.preprocessing import SyntheticControlPreProcessing\n",
    "\n",
    "synth_preprocessing = SyntheticControlPreProcessing(\n",
    "    SupermarketSalesFormatter().treatment_col,\n",
    "    SupermarketSalesFormatter().date_col,\n",
    "    SupermarketSalesFormatter().target_col,\n",
    ")\n",
    "\n",
    "synth_preprocessing.fit_transform(formatted_data)"
   ]
  },
  {
   "cell_type": "code",
   "execution_count": null,
   "metadata": {},
   "outputs": [],
   "source": []
  },
  {
   "cell_type": "code",
   "execution_count": null,
   "metadata": {},
   "outputs": [],
   "source": []
  },
  {
   "cell_type": "code",
   "execution_count": null,
   "metadata": {},
   "outputs": [],
   "source": []
  }
 ],
 "metadata": {
  "kernelspec": {
   "display_name": "causal_venv",
   "language": "python",
   "name": "python3"
  },
  "language_info": {
   "codemirror_mode": {
    "name": "ipython",
    "version": 3
   },
   "file_extension": ".py",
   "mimetype": "text/x-python",
   "name": "python",
   "nbconvert_exporter": "python",
   "pygments_lexer": "ipython3",
   "version": "3.8.9"
  }
 },
 "nbformat": 4,
 "nbformat_minor": 2
}
