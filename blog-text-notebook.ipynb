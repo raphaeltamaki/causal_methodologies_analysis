{
 "cells": [
  {
   "cell_type": "code",
   "execution_count": 1,
   "metadata": {},
   "outputs": [
    {
     "name": "stdout",
     "output_type": "stream",
     "text": [
      "Getting iowa_licor_sales dataset\n",
      "Dataset iowa_licor_sales already present\n",
      "\n",
      "Getting wallmart_sales dataset\n",
      "Dataset wallmart_sales already present\n",
      "\n",
      "Getting supermarket_sales dataset\n",
      "Dataset supermarket_sales already present\n",
      "\n",
      "Getting superstore_sales dataset\n",
      "Dataset superstore_sales already present\n",
      "\n",
      "Getting lifetime_value dataset\n",
      "Dataset lifetime_value already present\n",
      "\n",
      "Getting corona dataset\n",
      "Dataset corona already present\n",
      "\n",
      "Getting climate_change_earth_temperature dataset\n",
      "Dataset climate_change_earth_temperature already present\n",
      "\n",
      "Getting nifty50_stock_market dataset\n",
      "Dataset nifty50_stock_market already present\n",
      "\n"
     ]
    }
   ],
   "source": [
    "from src.data.load import DataLoader\n",
    "from pathlib import Path\n",
    "\n",
    "loader = DataLoader('data')\n",
    "loader.get_data()"
   ]
  },
  {
   "cell_type": "code",
   "execution_count": 2,
   "metadata": {},
   "outputs": [
    {
     "name": "stdout",
     "output_type": "stream",
     "text": [
      "/Users/raphaeltamaki/Documents/personal_git/causal_methodologies_analysis/data/corona/covid_19_data.csv\n"
     ]
    },
    {
     "data": {
      "text/html": [
       "<div><style>\n",
       ".dataframe > thead > tr,\n",
       ".dataframe > tbody > tr {\n",
       "  text-align: right;\n",
       "  white-space: pre-wrap;\n",
       "}\n",
       "</style>\n",
       "<small>shape: (5, 8)</small><table border=\"1\" class=\"dataframe\"><thead><tr><th>SNo</th><th>ObservationDate</th><th>Province/State</th><th>Country/Region</th><th>Last Update</th><th>Confirmed</th><th>Deaths</th><th>Recovered</th></tr><tr><td>i64</td><td>str</td><td>str</td><td>str</td><td>str</td><td>f64</td><td>f64</td><td>f64</td></tr></thead><tbody><tr><td>1</td><td>&quot;01/22/2020&quot;</td><td>&quot;Anhui&quot;</td><td>&quot;Mainland China&quot;</td><td>&quot;1/22/2020 17:00&quot;</td><td>1.0</td><td>0.0</td><td>0.0</td></tr><tr><td>2</td><td>&quot;01/22/2020&quot;</td><td>&quot;Beijing&quot;</td><td>&quot;Mainland China&quot;</td><td>&quot;1/22/2020 17:00&quot;</td><td>14.0</td><td>0.0</td><td>0.0</td></tr><tr><td>3</td><td>&quot;01/22/2020&quot;</td><td>&quot;Chongqing&quot;</td><td>&quot;Mainland China&quot;</td><td>&quot;1/22/2020 17:00&quot;</td><td>6.0</td><td>0.0</td><td>0.0</td></tr><tr><td>4</td><td>&quot;01/22/2020&quot;</td><td>&quot;Fujian&quot;</td><td>&quot;Mainland China&quot;</td><td>&quot;1/22/2020 17:00&quot;</td><td>1.0</td><td>0.0</td><td>0.0</td></tr><tr><td>5</td><td>&quot;01/22/2020&quot;</td><td>&quot;Gansu&quot;</td><td>&quot;Mainland China&quot;</td><td>&quot;1/22/2020 17:00&quot;</td><td>0.0</td><td>0.0</td><td>0.0</td></tr></tbody></table></div>"
      ],
      "text/plain": [
       "shape: (5, 8)\n",
       "┌─────┬──────────────┬──────────────┬──────────────┬──────────────┬───────────┬────────┬───────────┐\n",
       "│ SNo ┆ ObservationD ┆ Province/Sta ┆ Country/Regi ┆ Last Update  ┆ Confirmed ┆ Deaths ┆ Recovered │\n",
       "│ --- ┆ ate          ┆ te           ┆ on           ┆ ---          ┆ ---       ┆ ---    ┆ ---       │\n",
       "│ i64 ┆ ---          ┆ ---          ┆ ---          ┆ str          ┆ f64       ┆ f64    ┆ f64       │\n",
       "│     ┆ str          ┆ str          ┆ str          ┆              ┆           ┆        ┆           │\n",
       "╞═════╪══════════════╪══════════════╪══════════════╪══════════════╪═══════════╪════════╪═══════════╡\n",
       "│ 1   ┆ 01/22/2020   ┆ Anhui        ┆ Mainland     ┆ 1/22/2020    ┆ 1.0       ┆ 0.0    ┆ 0.0       │\n",
       "│     ┆              ┆              ┆ China        ┆ 17:00        ┆           ┆        ┆           │\n",
       "│ 2   ┆ 01/22/2020   ┆ Beijing      ┆ Mainland     ┆ 1/22/2020    ┆ 14.0      ┆ 0.0    ┆ 0.0       │\n",
       "│     ┆              ┆              ┆ China        ┆ 17:00        ┆           ┆        ┆           │\n",
       "│ 3   ┆ 01/22/2020   ┆ Chongqing    ┆ Mainland     ┆ 1/22/2020    ┆ 6.0       ┆ 0.0    ┆ 0.0       │\n",
       "│     ┆              ┆              ┆ China        ┆ 17:00        ┆           ┆        ┆           │\n",
       "│ 4   ┆ 01/22/2020   ┆ Fujian       ┆ Mainland     ┆ 1/22/2020    ┆ 1.0       ┆ 0.0    ┆ 0.0       │\n",
       "│     ┆              ┆              ┆ China        ┆ 17:00        ┆           ┆        ┆           │\n",
       "│ 5   ┆ 01/22/2020   ┆ Gansu        ┆ Mainland     ┆ 1/22/2020    ┆ 0.0       ┆ 0.0    ┆ 0.0       │\n",
       "│     ┆              ┆              ┆ China        ┆ 17:00        ┆           ┆        ┆           │\n",
       "└─────┴──────────────┴──────────────┴──────────────┴──────────────┴───────────┴────────┴───────────┘"
      ]
     },
     "execution_count": 2,
     "metadata": {},
     "output_type": "execute_result"
    }
   ],
   "source": [
    "import polars as pl\n",
    "\n",
    "z = loader.load_dataset(\"corona\")\n",
    "z.head()"
   ]
  },
  {
   "cell_type": "code",
   "execution_count": null,
   "metadata": {},
   "outputs": [],
   "source": [
    "#%pip install kaggle polars-lts-cpu pyarrow pystan"
   ]
  },
  {
   "cell_type": "code",
   "execution_count": 3,
   "metadata": {},
   "outputs": [
    {
     "name": "stdout",
     "output_type": "stream",
     "text": [
      "/Users/raphaeltamaki/Documents/personal_git/causal_methodologies_analysis/data/corona/covid_19_data.csv\n"
     ]
    },
    {
     "data": {
      "text/html": [
       "<div><style>\n",
       ".dataframe > thead > tr,\n",
       ".dataframe > tbody > tr {\n",
       "  text-align: right;\n",
       "  white-space: pre-wrap;\n",
       "}\n",
       "</style>\n",
       "<small>shape: (5, 8)</small><table border=\"1\" class=\"dataframe\"><thead><tr><th>SNo</th><th>ObservationDate</th><th>Province/State</th><th>Country/Region</th><th>Last Update</th><th>Confirmed</th><th>Deaths</th><th>Recovered</th></tr><tr><td>i64</td><td>str</td><td>str</td><td>str</td><td>str</td><td>f64</td><td>f64</td><td>f64</td></tr></thead><tbody><tr><td>1</td><td>&quot;01/22/2020&quot;</td><td>&quot;Anhui&quot;</td><td>&quot;Mainland China&quot;</td><td>&quot;1/22/2020 17:00&quot;</td><td>1.0</td><td>0.0</td><td>0.0</td></tr><tr><td>2</td><td>&quot;01/22/2020&quot;</td><td>&quot;Beijing&quot;</td><td>&quot;Mainland China&quot;</td><td>&quot;1/22/2020 17:00&quot;</td><td>14.0</td><td>0.0</td><td>0.0</td></tr><tr><td>3</td><td>&quot;01/22/2020&quot;</td><td>&quot;Chongqing&quot;</td><td>&quot;Mainland China&quot;</td><td>&quot;1/22/2020 17:00&quot;</td><td>6.0</td><td>0.0</td><td>0.0</td></tr><tr><td>4</td><td>&quot;01/22/2020&quot;</td><td>&quot;Fujian&quot;</td><td>&quot;Mainland China&quot;</td><td>&quot;1/22/2020 17:00&quot;</td><td>1.0</td><td>0.0</td><td>0.0</td></tr><tr><td>5</td><td>&quot;01/22/2020&quot;</td><td>&quot;Gansu&quot;</td><td>&quot;Mainland China&quot;</td><td>&quot;1/22/2020 17:00&quot;</td><td>0.0</td><td>0.0</td><td>0.0</td></tr></tbody></table></div>"
      ],
      "text/plain": [
       "shape: (5, 8)\n",
       "┌─────┬──────────────┬──────────────┬──────────────┬──────────────┬───────────┬────────┬───────────┐\n",
       "│ SNo ┆ ObservationD ┆ Province/Sta ┆ Country/Regi ┆ Last Update  ┆ Confirmed ┆ Deaths ┆ Recovered │\n",
       "│ --- ┆ ate          ┆ te           ┆ on           ┆ ---          ┆ ---       ┆ ---    ┆ ---       │\n",
       "│ i64 ┆ ---          ┆ ---          ┆ ---          ┆ str          ┆ f64       ┆ f64    ┆ f64       │\n",
       "│     ┆ str          ┆ str          ┆ str          ┆              ┆           ┆        ┆           │\n",
       "╞═════╪══════════════╪══════════════╪══════════════╪══════════════╪═══════════╪════════╪═══════════╡\n",
       "│ 1   ┆ 01/22/2020   ┆ Anhui        ┆ Mainland     ┆ 1/22/2020    ┆ 1.0       ┆ 0.0    ┆ 0.0       │\n",
       "│     ┆              ┆              ┆ China        ┆ 17:00        ┆           ┆        ┆           │\n",
       "│ 2   ┆ 01/22/2020   ┆ Beijing      ┆ Mainland     ┆ 1/22/2020    ┆ 14.0      ┆ 0.0    ┆ 0.0       │\n",
       "│     ┆              ┆              ┆ China        ┆ 17:00        ┆           ┆        ┆           │\n",
       "│ 3   ┆ 01/22/2020   ┆ Chongqing    ┆ Mainland     ┆ 1/22/2020    ┆ 6.0       ┆ 0.0    ┆ 0.0       │\n",
       "│     ┆              ┆              ┆ China        ┆ 17:00        ┆           ┆        ┆           │\n",
       "│ 4   ┆ 01/22/2020   ┆ Fujian       ┆ Mainland     ┆ 1/22/2020    ┆ 1.0       ┆ 0.0    ┆ 0.0       │\n",
       "│     ┆              ┆              ┆ China        ┆ 17:00        ┆           ┆        ┆           │\n",
       "│ 5   ┆ 01/22/2020   ┆ Gansu        ┆ Mainland     ┆ 1/22/2020    ┆ 0.0       ┆ 0.0    ┆ 0.0       │\n",
       "│     ┆              ┆              ┆ China        ┆ 17:00        ┆           ┆        ┆           │\n",
       "└─────┴──────────────┴──────────────┴──────────────┴──────────────┴───────────┴────────┴───────────┘"
      ]
     },
     "execution_count": 3,
     "metadata": {},
     "output_type": "execute_result"
    }
   ],
   "source": [
    "# EarthTemperatureFormatter().fit_transform(loader.load_dataset(\"climate_change_earth_temperature\").head())\n",
    "loader.load_dataset(\"corona\").head()"
   ]
  },
  {
   "cell_type": "code",
   "execution_count": 4,
   "metadata": {},
   "outputs": [
    {
     "name": "stdout",
     "output_type": "stream",
     "text": [
      "/Users/raphaeltamaki/Documents/personal_git/causal_methodologies_analysis/data/supermarket_sales/supermarket_sales - Sheet1.csv\n",
      "/Users/raphaeltamaki/Documents/personal_git/causal_methodologies_analysis/data/iowa_licor_sales/Iowa_Liquor_Sales.csv\n",
      "/Users/raphaeltamaki/Documents/personal_git/causal_methodologies_analysis/data/wallmart_sales/Walmart.csv\n",
      "/Users/raphaeltamaki/Documents/personal_git/causal_methodologies_analysis/data/superstore_sales/train.csv\n",
      "/Users/raphaeltamaki/Documents/personal_git/causal_methodologies_analysis/data/lifetime_value/test.csv\n",
      "/Users/raphaeltamaki/Documents/personal_git/causal_methodologies_analysis/data/climate_change_earth_temperature/GlobalLandTemperaturesByCountry.csv\n",
      "/Users/raphaeltamaki/Documents/personal_git/causal_methodologies_analysis/data/nifty50_stock_market/NIFTY50_all.csv\n",
      "/Users/raphaeltamaki/Documents/personal_git/causal_methodologies_analysis/data/corona/covid_19_data.csv\n"
     ]
    }
   ],
   "source": [
    "from src.data.data_formatter import (\n",
    "    SupermarketSalesFormatter,\n",
    "    IowaLicorSalesFormatter,\n",
    "    WallmartSalesFormatter,\n",
    "    SuperstoreSalesFormatter,\n",
    "    LifetimeValueFormatter,\n",
    "    EarthTemperatureFormatter,\n",
    "    Nifty50StockMarketFormatter,\n",
    "    CoronaFormatter,\n",
    "    )\n",
    "\n",
    "dataset_formatters = {\n",
    "    'supermarket_sales': SupermarketSalesFormatter(),\n",
    "    'iowa_licor_sales': IowaLicorSalesFormatter(),\n",
    "    'wallmart_sales': WallmartSalesFormatter(),\n",
    "    'superstore_sales': SuperstoreSalesFormatter(),\n",
    "    'lifetime_value': LifetimeValueFormatter(),\n",
    "    'climate_change_earth_temperature': EarthTemperatureFormatter(),\n",
    "    'nifty50_stock_market': Nifty50StockMarketFormatter(),\n",
    "    'corona': CoronaFormatter(),\n",
    "    }\n",
    "\n",
    "# Test if all are running\n",
    "for dataset_name, formatter in dataset_formatters.items():\n",
    "    formatter.fit_transform(loader.load_dataset(dataset_name).head())"
   ]
  },
  {
   "cell_type": "code",
   "execution_count": 27,
   "metadata": {},
   "outputs": [
    {
     "name": "stdout",
     "output_type": "stream",
     "text": [
      "/Users/raphaeltamaki/Documents/personal_git/causal_methodologies_analysis/data/lifetime_value/test.csv\n"
     ]
    },
    {
     "name": "stderr",
     "output_type": "stream",
     "text": [
      "sys:1: MapWithoutReturnDtypeWarning: Calling `map_elements` without specifying `return_dtype` can lead to unpredictable results. Specify `return_dtype` to silence this warning.\n",
      "sys:1: MapWithoutReturnDtypeWarning: Calling `map_elements` without specifying `return_dtype` can lead to unpredictable results. Specify `return_dtype` to silence this warning.\n",
      "sys:1: MapWithoutReturnDtypeWarning: Calling `map_elements` without specifying `return_dtype` can lead to unpredictable results. Specify `return_dtype` to silence this warning.\n",
      "sys:1: MapWithoutReturnDtypeWarning: Calling `map_elements` without specifying `return_dtype` can lead to unpredictable results. Specify `return_dtype` to silence this warning.\n",
      "sys:1: MapWithoutReturnDtypeWarning: Calling `map_elements` without specifying `return_dtype` can lead to unpredictable results. Specify `return_dtype` to silence this warning.\n",
      "sys:1: MapWithoutReturnDtypeWarning: Calling `map_elements` without specifying `return_dtype` can lead to unpredictable results. Specify `return_dtype` to silence this warning.\n",
      "sys:1: MapWithoutReturnDtypeWarning: Calling `map_elements` without specifying `return_dtype` can lead to unpredictable results. Specify `return_dtype` to silence this warning.\n",
      "sys:1: MapWithoutReturnDtypeWarning: Calling `map_elements` without specifying `return_dtype` can lead to unpredictable results. Specify `return_dtype` to silence this warning.\n",
      "sys:1: MapWithoutReturnDtypeWarning: Calling `map_elements` without specifying `return_dtype` can lead to unpredictable results. Specify `return_dtype` to silence this warning.\n",
      "sys:1: MapWithoutReturnDtypeWarning: Calling `map_elements` without specifying `return_dtype` can lead to unpredictable results. Specify `return_dtype` to silence this warning.\n"
     ]
    },
    {
     "data": {
      "text/html": [
       "<div><style>\n",
       ".dataframe > thead > tr,\n",
       ".dataframe > tbody > tr {\n",
       "  text-align: right;\n",
       "  white-space: pre-wrap;\n",
       "}\n",
       "</style>\n",
       "<small>shape: (5, 7)</small><table border=\"1\" class=\"dataframe\"><thead><tr><th>country_segment</th><th>STV</th><th>product</th><th>join_date</th><th>credit_card_level</th><th>product_type</th><th>user_id</th></tr><tr><td>str</td><td>f64</td><td>str</td><td>datetime[μs]</td><td>str</td><td>str</td><td>f64</td></tr></thead><tbody><tr><td>&quot;Other Countries&quot;</td><td>8.25</td><td>&quot;product_1&quot;</td><td>2019-07-01 00:00:00</td><td>&quot;standard&quot;</td><td>&quot;type_ex&quot;</td><td>1.188741e6</td></tr><tr><td>&quot;US&quot;</td><td>8.25</td><td>&quot;product_2&quot;</td><td>2019-07-01 00:00:00</td><td>&quot;standard&quot;</td><td>&quot;type_ex&quot;</td><td>1.188768e6</td></tr><tr><td>&quot;RU&quot;</td><td>8.25</td><td>&quot;product_1&quot;</td><td>2019-07-01 00:00:00</td><td>&quot;standard&quot;</td><td>&quot;type_ex&quot;</td><td>1.188785e6</td></tr><tr><td>&quot;AU&quot;</td><td>8.25</td><td>&quot;product_4&quot;</td><td>2019-07-01 00:00:00</td><td>&quot;standard&quot;</td><td>&quot;type_ex&quot;</td><td>1.1888e6</td></tr><tr><td>&quot;US&quot;</td><td>8.25</td><td>&quot;product_4&quot;</td><td>2019-07-01 00:00:00</td><td>&quot;standard&quot;</td><td>&quot;type_ex&quot;</td><td>1.18885e6</td></tr></tbody></table></div>"
      ],
      "text/plain": [
       "shape: (5, 7)\n",
       "┌─────────────────┬──────┬───────────┬────────────────┬────────────────┬──────────────┬────────────┐\n",
       "│ country_segment ┆ STV  ┆ product   ┆ join_date      ┆ credit_card_le ┆ product_type ┆ user_id    │\n",
       "│ ---             ┆ ---  ┆ ---       ┆ ---            ┆ vel            ┆ ---          ┆ ---        │\n",
       "│ str             ┆ f64  ┆ str       ┆ datetime[μs]   ┆ ---            ┆ str          ┆ f64        │\n",
       "│                 ┆      ┆           ┆                ┆ str            ┆              ┆            │\n",
       "╞═════════════════╪══════╪═══════════╪════════════════╪════════════════╪══════════════╪════════════╡\n",
       "│ Other Countries ┆ 8.25 ┆ product_1 ┆ 2019-07-01     ┆ standard       ┆ type_ex      ┆ 1.188741e6 │\n",
       "│                 ┆      ┆           ┆ 00:00:00       ┆                ┆              ┆            │\n",
       "│ US              ┆ 8.25 ┆ product_2 ┆ 2019-07-01     ┆ standard       ┆ type_ex      ┆ 1.188768e6 │\n",
       "│                 ┆      ┆           ┆ 00:00:00       ┆                ┆              ┆            │\n",
       "│ RU              ┆ 8.25 ┆ product_1 ┆ 2019-07-01     ┆ standard       ┆ type_ex      ┆ 1.188785e6 │\n",
       "│                 ┆      ┆           ┆ 00:00:00       ┆                ┆              ┆            │\n",
       "│ AU              ┆ 8.25 ┆ product_4 ┆ 2019-07-01     ┆ standard       ┆ type_ex      ┆ 1.1888e6   │\n",
       "│                 ┆      ┆           ┆ 00:00:00       ┆                ┆              ┆            │\n",
       "│ US              ┆ 8.25 ┆ product_4 ┆ 2019-07-01     ┆ standard       ┆ type_ex      ┆ 1.18885e6  │\n",
       "│                 ┆      ┆           ┆ 00:00:00       ┆                ┆              ┆            │\n",
       "└─────────────────┴──────┴───────────┴────────────────┴────────────────┴──────────────┴────────────┘"
      ]
     },
     "execution_count": 27,
     "metadata": {},
     "output_type": "execute_result"
    }
   ],
   "source": [
    "from src.data.random_experiment import RandomConstantLiftExperiment\n",
    "setup = RandomConstantLiftExperiment(\"lifetime_value\", loader.load_dataset(\"lifetime_value\"),\n",
    "        eligible_treatment_period=[0.5, 0.5],\n",
    "        lift_limit=1)\n",
    "treated_data = setup.get_treated_data()\n",
    "treated_data.head()"
   ]
  },
  {
   "cell_type": "code",
   "execution_count": 45,
   "metadata": {},
   "outputs": [
    {
     "data": {
      "text/html": [
       "<div><style>\n",
       ".dataframe > thead > tr,\n",
       ".dataframe > tbody > tr {\n",
       "  text-align: right;\n",
       "  white-space: pre-wrap;\n",
       "}\n",
       "</style>\n",
       "<small>shape: (5, 10)</small><table border=\"1\" class=\"dataframe\"><thead><tr><th>date</th><th>Other Countries</th><th>target</th><th>ZA</th><th>RU</th><th>TH</th><th>CL</th><th>CA</th><th>GB</th><th>IL</th></tr><tr><td>datetime[μs]</td><td>f64</td><td>f64</td><td>f64</td><td>f64</td><td>f64</td><td>f64</td><td>f64</td><td>f64</td><td>f64</td></tr></thead><tbody><tr><td>2019-07-23 00:00:00</td><td>3005.829675</td><td>28272.865926</td><td>200.818875</td><td>439.474875</td><td>77.733</td><td>18.265125</td><td>681.84255</td><td>514.5943</td><td>265.831875</td></tr><tr><td>2019-07-27 00:00:00</td><td>3465.26635</td><td>33799.433052</td><td>127.58325</td><td>534.802875</td><td>80.340375</td><td>106.71075</td><td>882.14955</td><td>913.854875</td><td>825.125625</td></tr><tr><td>2019-07-17 00:00:00</td><td>3459.797925</td><td>22503.809973</td><td>101.563125</td><td>576.008625</td><td>12.6225</td><td>28.502625</td><td>399.46025</td><td>307.91305</td><td>667.0125</td></tr><tr><td>2019-07-26 00:00:00</td><td>3991.9334</td><td>30380.695939</td><td>143.958375</td><td>651.7338</td><td>19.855125</td><td>54.697875</td><td>708.7278</td><td>776.171675</td><td>315.06225</td></tr><tr><td>2019-07-13 00:00:00</td><td>3164.3358</td><td>18693.0741</td><td>262.001625</td><td>680.538075</td><td>3.5775</td><td>97.150875</td><td>757.57635</td><td>628.56255</td><td>320.849625</td></tr></tbody></table></div>"
      ],
      "text/plain": [
       "shape: (5, 10)\n",
       "┌───────────┬───────────┬───────────┬───────────┬───┬───────────┬───────────┬───────────┬──────────┐\n",
       "│ date      ┆ Other     ┆ target    ┆ ZA        ┆ … ┆ CL        ┆ CA        ┆ GB        ┆ IL       │\n",
       "│ ---       ┆ Countries ┆ ---       ┆ ---       ┆   ┆ ---       ┆ ---       ┆ ---       ┆ ---      │\n",
       "│ datetime[ ┆ ---       ┆ f64       ┆ f64       ┆   ┆ f64       ┆ f64       ┆ f64       ┆ f64      │\n",
       "│ μs]       ┆ f64       ┆           ┆           ┆   ┆           ┆           ┆           ┆          │\n",
       "╞═══════════╪═══════════╪═══════════╪═══════════╪═══╪═══════════╪═══════════╪═══════════╪══════════╡\n",
       "│ 2019-07-2 ┆ 3005.8296 ┆ 28272.865 ┆ 200.81887 ┆ … ┆ 18.265125 ┆ 681.84255 ┆ 514.5943  ┆ 265.8318 │\n",
       "│ 3         ┆ 75        ┆ 926       ┆ 5         ┆   ┆           ┆           ┆           ┆ 75       │\n",
       "│ 00:00:00  ┆           ┆           ┆           ┆   ┆           ┆           ┆           ┆          │\n",
       "│ 2019-07-2 ┆ 3465.2663 ┆ 33799.433 ┆ 127.58325 ┆ … ┆ 106.71075 ┆ 882.14955 ┆ 913.85487 ┆ 825.1256 │\n",
       "│ 7         ┆ 5         ┆ 052       ┆           ┆   ┆           ┆           ┆ 5         ┆ 25       │\n",
       "│ 00:00:00  ┆           ┆           ┆           ┆   ┆           ┆           ┆           ┆          │\n",
       "│ 2019-07-1 ┆ 3459.7979 ┆ 22503.809 ┆ 101.56312 ┆ … ┆ 28.502625 ┆ 399.46025 ┆ 307.91305 ┆ 667.0125 │\n",
       "│ 7         ┆ 25        ┆ 973       ┆ 5         ┆   ┆           ┆           ┆           ┆          │\n",
       "│ 00:00:00  ┆           ┆           ┆           ┆   ┆           ┆           ┆           ┆          │\n",
       "│ 2019-07-2 ┆ 3991.9334 ┆ 30380.695 ┆ 143.95837 ┆ … ┆ 54.697875 ┆ 708.7278  ┆ 776.17167 ┆ 315.0622 │\n",
       "│ 6         ┆           ┆ 939       ┆ 5         ┆   ┆           ┆           ┆ 5         ┆ 5        │\n",
       "│ 00:00:00  ┆           ┆           ┆           ┆   ┆           ┆           ┆           ┆          │\n",
       "│ 2019-07-1 ┆ 3164.3358 ┆ 18693.074 ┆ 262.00162 ┆ … ┆ 97.150875 ┆ 757.57635 ┆ 628.56255 ┆ 320.8496 │\n",
       "│ 3         ┆           ┆ 1         ┆ 5         ┆   ┆           ┆           ┆           ┆ 25       │\n",
       "│ 00:00:00  ┆           ┆           ┆           ┆   ┆           ┆           ┆           ┆          │\n",
       "└───────────┴───────────┴───────────┴───────────┴───┴───────────┴───────────┴───────────┴──────────┘"
      ]
     },
     "execution_count": 45,
     "metadata": {},
     "output_type": "execute_result"
    }
   ],
   "source": [
    "from src.models.preprocessing import SyntheticControlPreProcessing\n",
    "\n",
    "synth_preprocessing = SyntheticControlPreProcessing(\n",
    "    # SupermarketSalesFormatter(),\n",
    "    LifetimeValueFormatter(),\n",
    "    setup.experiment_setup, \n",
    ")\n",
    "\n",
    "processed_data = synth_preprocessing.fit_transform(treated_data)\n",
    "processed_data.head()"
   ]
  },
  {
   "cell_type": "code",
   "execution_count": 46,
   "metadata": {},
   "outputs": [
    {
     "name": "stdout",
     "output_type": "stream",
     "text": [
      "0.8616187413773878\n",
      "STV\n",
      "['LK', 'NZ', 'MY', 'AU', 'US', 'SG', 'NG']\n",
      "2019-07-16 00:00:00\n",
      "2019-07-31 00:00:00\n"
     ]
    }
   ],
   "source": [
    "print(setup.experiment_setup.lift_size)\n",
    "print(setup.experiment_setup.target_col)\n",
    "print(setup.experiment_setup.treated_groups)\n",
    "print(setup.experiment_setup.treatment_start_date)\n",
    "print(setup.experiment_setup.treatment_end_date)"
   ]
  },
  {
   "cell_type": "code",
   "execution_count": 29,
   "metadata": {},
   "outputs": [],
   "source": [
    "processed_data.write_csv('~/Documents/ltv_test.csv')"
   ]
  },
  {
   "cell_type": "code",
   "execution_count": 30,
   "metadata": {},
   "outputs": [
    {
     "name": "stdout",
     "output_type": "stream",
     "text": [
      "/Users/raphaeltamaki/Documents/personal_git/causal_methodologies_analysis/data/supermarket_sales/supermarket_sales - Sheet1.csv\n",
      "/Users/raphaeltamaki/Documents/personal_git/causal_methodologies_analysis/data/lifetime_value/test.csv\n",
      "shape: (5, 10)\n",
      "┌───────────┬───────────┬───────────┬───────────┬───┬───────────┬───────────┬───────────┬──────────┐\n",
      "│ date      ┆ CL        ┆ CA        ┆ IL        ┆ … ┆ RU        ┆ Other     ┆ TH        ┆ target   │\n",
      "│ ---       ┆ ---       ┆ ---       ┆ ---       ┆   ┆ ---       ┆ Countries ┆ ---       ┆ ---      │\n",
      "│ datetime[ ┆ f64       ┆ f64       ┆ f64       ┆   ┆ f64       ┆ ---       ┆ f64       ┆ f64      │\n",
      "│ μs]       ┆           ┆           ┆           ┆   ┆           ┆ f64       ┆           ┆          │\n",
      "╞═══════════╪═══════════╪═══════════╪═══════════╪═══╪═══════════╪═══════════╪═══════════╪══════════╡\n",
      "│ 2019-07-1 ┆ 28.502625 ┆ 399.46025 ┆ 667.0125  ┆ … ┆ 576.00862 ┆ 3459.7979 ┆ 12.6225   ┆ 22503.80 │\n",
      "│ 7         ┆           ┆           ┆           ┆   ┆ 5         ┆ 25        ┆           ┆ 9973     │\n",
      "│ 00:00:00  ┆           ┆           ┆           ┆   ┆           ┆           ┆           ┆          │\n",
      "│ 2019-07-0 ┆ 11.8275   ┆ 591.52412 ┆ 236.184   ┆ … ┆ 412.86225 ┆ 3041.6011 ┆ 9.4425    ┆ 15445.48 │\n",
      "│ 9         ┆           ┆ 5         ┆           ┆   ┆           ┆ 25        ┆           ┆ 8675     │\n",
      "│ 00:00:00  ┆           ┆           ┆           ┆   ┆           ┆           ┆           ┆          │\n",
      "│ 2019-07-0 ┆ 90.433125 ┆ 574.19625 ┆ 389.69287 ┆ … ┆ 517.04325 ┆ 3809.0562 ┆ 26.515125 ┆ 16705.76 │\n",
      "│ 7         ┆           ┆           ┆ 5         ┆   ┆           ┆ 5         ┆           ┆ 75       │\n",
      "│ 00:00:00  ┆           ┆           ┆           ┆   ┆           ┆           ┆           ┆          │\n",
      "│ 2019-07-1 ┆ 59.070375 ┆ 664.07242 ┆ 384.42787 ┆ … ┆ 476.25787 ┆ 3119.4125 ┆ 0.3975    ┆ 28565.81 │\n",
      "│ 9         ┆           ┆ 5         ┆ 5         ┆   ┆ 5         ┆           ┆           ┆ 5463     │\n",
      "│ 00:00:00  ┆           ┆           ┆           ┆   ┆           ┆           ┆           ┆          │\n",
      "│ 2019-07-0 ┆ 52.410375 ┆ 423.30525 ┆ 237.72675 ┆ … ┆ 466.44525 ┆ 3798.4406 ┆ 46.37025  ┆ 18815.73 │\n",
      "│ 6         ┆           ┆           ┆           ┆   ┆           ┆ 25        ┆           ┆ 6925     │\n",
      "│ 00:00:00  ┆           ┆           ┆           ┆   ┆           ┆           ┆           ┆          │\n",
      "└───────────┴───────────┴───────────┴───────────┴───┴───────────┴───────────┴───────────┴──────────┘\n"
     ]
    },
    {
     "name": "stderr",
     "output_type": "stream",
     "text": [
      "sys:1: MapWithoutReturnDtypeWarning: Calling `map_elements` without specifying `return_dtype` can lead to unpredictable results. Specify `return_dtype` to silence this warning.\n",
      "sys:1: MapWithoutReturnDtypeWarning: Calling `map_elements` without specifying `return_dtype` can lead to unpredictable results. Specify `return_dtype` to silence this warning.\n",
      "sys:1: MapWithoutReturnDtypeWarning: Calling `map_elements` without specifying `return_dtype` can lead to unpredictable results. Specify `return_dtype` to silence this warning.\n",
      "sys:1: MapWithoutReturnDtypeWarning: Calling `map_elements` without specifying `return_dtype` can lead to unpredictable results. Specify `return_dtype` to silence this warning.\n",
      "sys:1: MapWithoutReturnDtypeWarning: Calling `map_elements` without specifying `return_dtype` can lead to unpredictable results. Specify `return_dtype` to silence this warning.\n",
      "sys:1: MapWithoutReturnDtypeWarning: Calling `map_elements` without specifying `return_dtype` can lead to unpredictable results. Specify `return_dtype` to silence this warning.\n",
      "sys:1: MapWithoutReturnDtypeWarning: Calling `map_elements` without specifying `return_dtype` can lead to unpredictable results. Specify `return_dtype` to silence this warning.\n",
      "sys:1: MapWithoutReturnDtypeWarning: Calling `map_elements` without specifying `return_dtype` can lead to unpredictable results. Specify `return_dtype` to silence this warning.\n",
      "sys:1: MapWithoutReturnDtypeWarning: Calling `map_elements` without specifying `return_dtype` can lead to unpredictable results. Specify `return_dtype` to silence this warning.\n",
      "sys:1: MapWithoutReturnDtypeWarning: Calling `map_elements` without specifying `return_dtype` can lead to unpredictable results. Specify `return_dtype` to silence this warning.\n"
     ]
    }
   ],
   "source": [
    "from src.data.random_experiment import RandomConstantLiftExperiment\n",
    "setup = RandomConstantLiftExperiment(\"supermarket_sales\", loader.load_dataset(\"supermarket_sales\"))\n",
    "\n",
    "for dataset_name in [\n",
    "    \"lifetime_value\", \n",
    "    # \"climate_change_earth_temperature\",\n",
    "    # \"nifty50_stock_market\", \n",
    "    # \"corona\"\n",
    "    ]:\n",
    "    setup = RandomConstantLiftExperiment(\n",
    "        dataset_name,\n",
    "        loader.load_dataset(dataset_name),\n",
    "        eligible_treatment_period=[0.5, 0.5],\n",
    "        lift_limit=1\n",
    "    )\n",
    "    treated_data = setup.get_treated_data()\n",
    "\n",
    "    synth_preprocessing = SyntheticControlPreProcessing(\n",
    "        setup.data_formatter,\n",
    "        setup.experiment_setup, \n",
    "    )\n",
    "\n",
    "    preprocessed_data = synth_preprocessing.fit_transform(treated_data)\n",
    "    print(preprocessed_data.head())"
   ]
  },
  {
   "cell_type": "code",
   "execution_count": null,
   "metadata": {},
   "outputs": [],
   "source": [
    "preprocessed_data"
   ]
  },
  {
   "cell_type": "markdown",
   "metadata": {},
   "source": [
    "# Test"
   ]
  },
  {
   "cell_type": "code",
   "execution_count": null,
   "metadata": {},
   "outputs": [],
   "source": [
    "# nest_asyncio is needed for running pystan in a notebook\n",
    "import nest_asyncio\n",
    "nest_asyncio.apply()"
   ]
  },
  {
   "cell_type": "code",
   "execution_count": null,
   "metadata": {},
   "outputs": [],
   "source": [
    "setup.experiment_setup.treatment_start_date"
   ]
  },
  {
   "cell_type": "code",
   "execution_count": null,
   "metadata": {},
   "outputs": [],
   "source": [
    "pandas_data = (\n",
    "    preprocessed_data\n",
    "    .filter(pl.col(\"date\") < pl.lit(setup.experiment_setup.treatment_start_date))\n",
    "    .to_pandas()\n",
    "    )\n",
    "feat_cols = [col for col in pandas_data.columns if col not in (setup.experiment_setup.treated_groups + [\"date\", \"target\"])]"
   ]
  },
  {
   "cell_type": "code",
   "execution_count": null,
   "metadata": {},
   "outputs": [],
   "source": [
    "import numpy as np\n",
    "import stan\n",
    "# import stan.model\n",
    "\n",
    "# Define the model\n",
    "model_code = \"\"\"\n",
    "        data {\n",
    "            int<lower=1> N; // number of observations\n",
    "            int<lower=1> cols; // number of features\n",
    "            vector[N] y; // target variable\n",
    "            matrix[N, cols] X; // design matrix\n",
    "        }\n",
    "        parameters {\n",
    "            vector[cols] coefs; // coefficients\n",
    "            real<lower=0.0001> sigma;\n",
    "            real bias;\n",
    "        }\n",
    "        model {\n",
    "            sigma ~ cauchy(0, 2);\n",
    "            coefs ~ double_exponential(0, 0.5);\n",
    "            y ~ normal(X * coefs + bias, sigma);\n",
    "        }\n",
    "        \"\"\"\n",
    "\n",
    "# Define the data for the model\n",
    "y = np.array(pandas_data['target'].fillna(0))\n",
    "X = np.matrix(pandas_data[feat_cols].fillna(0))\n",
    "cols = X.shape[1]\n",
    "is_treated = list((pandas_data[\"date\"] >= setup.experiment_setup.treatment_start_date).astype(int))\n",
    "N = X.shape[0]\n",
    "stan_data = {\"X\": X, \"y\": y, \"N\": N, \"cols\": cols, \"is_treated\": is_treated}\n",
    "# # Fit the model to the data\n",
    "posterior = stan.build(model_code, data=stan_data)"
   ]
  },
  {
   "cell_type": "code",
   "execution_count": null,
   "metadata": {},
   "outputs": [],
   "source": [
    "fit = posterior.sample(num_chains=3, num_samples=1000)"
   ]
  },
  {
   "cell_type": "code",
   "execution_count": null,
   "metadata": {},
   "outputs": [],
   "source": [
    "import seaborn as sns\n",
    "# sns.histplot(fit['treatment_coef'][0])\n",
    "coef = fit['coefs'].mean(axis=1)\n",
    "[c for c in coef if abs(c) > 0.1]"
   ]
  },
  {
   "cell_type": "code",
   "execution_count": null,
   "metadata": {},
   "outputs": [],
   "source": [
    "coef_cols = [f'coefs.{i+1}' for i in range(len(feat_cols))]\n",
    "coef_samples = np.matrix(fit.to_frame()[coef_cols]).transpose()\n"
   ]
  },
  {
   "cell_type": "code",
   "execution_count": null,
   "metadata": {},
   "outputs": [],
   "source": [
    "post_period_data = (\n",
    "    preprocessed_data\n",
    "    .filter(pl.col(\"date\") >= pl.lit(setup.experiment_setup.treatment_start_date))\n",
    "    .select(feat_cols)\n",
    "    .to_pandas()\n",
    "    )\n",
    "prediction = np.matmul(post_period_data, coef_samples) + fit['bias']\n",
    "prediction"
   ]
  },
  {
   "cell_type": "code",
   "execution_count": null,
   "metadata": {},
   "outputs": [],
   "source": [
    "post_period_target = (\n",
    "    preprocessed_data\n",
    "    .filter(pl.col(\"date\") >= pl.lit(setup.experiment_setup.treatment_start_date))\n",
    "    .select(\"target\")\n",
    "    .to_pandas()\n",
    "    )\n",
    "result = prediction.apply(lambda x: post_period_target[\"target\"] - x)\n",
    "result"
   ]
  },
  {
   "cell_type": "code",
   "execution_count": null,
   "metadata": {},
   "outputs": [],
   "source": [
    "result.mean(axis=0).std()"
   ]
  },
  {
   "cell_type": "code",
   "execution_count": null,
   "metadata": {},
   "outputs": [],
   "source": []
  },
  {
   "cell_type": "code",
   "execution_count": null,
   "metadata": {},
   "outputs": [],
   "source": []
  },
  {
   "cell_type": "code",
   "execution_count": null,
   "metadata": {},
   "outputs": [],
   "source": []
  },
  {
   "cell_type": "code",
   "execution_count": 3,
   "metadata": {},
   "outputs": [],
   "source": []
  },
  {
   "cell_type": "code",
   "execution_count": 1,
   "metadata": {},
   "outputs": [
    {
     "name": "stdout",
     "output_type": "stream",
     "text": [
      "Intel MKL WARNING: Support of Intel(R) Streaming SIMD Extensions 4.2 (Intel(R) SSE4.2) enabled only processors has been deprecated. Intel oneAPI Math Kernel Library 2025.0 will require Intel(R) Advanced Vector Extensions (Intel(R) AVX) instructions.\n",
      "Intel MKL WARNING: Support of Intel(R) Streaming SIMD Extensions 4.2 (Intel(R) SSE4.2) enabled only processors has been deprecated. Intel oneAPI Math Kernel Library 2025.0 will require Intel(R) Advanced Vector Extensions (Intel(R) AVX) instructions.\n"
     ]
    },
    {
     "name": "stderr",
     "output_type": "stream",
     "text": [
      "/Users/raphaeltamaki/opt/anaconda3/envs/pydata_2024/lib/python3.12/site-packages/causalpy/pymc_models.py:171: SyntaxWarning: invalid escape sequence '\\s'\n",
      "  \"\"\"\n",
      "/Users/raphaeltamaki/opt/anaconda3/envs/pydata_2024/lib/python3.12/site-packages/causalpy/pymc_models.py:224: SyntaxWarning: invalid escape sequence '\\s'\n",
      "  \"\"\"\n",
      "/Users/raphaeltamaki/opt/anaconda3/envs/pydata_2024/lib/python3.12/site-packages/causalpy/pymc_models.py:419: SyntaxWarning: invalid escape sequence '\\s'\n",
      "  \"\"\"\n"
     ]
    },
    {
     "ename": "KeyboardInterrupt",
     "evalue": "",
     "output_type": "error",
     "traceback": [
      "\u001b[0;31m---------------------------------------------------------------------------\u001b[0m",
      "\u001b[0;31mNoSectionError\u001b[0m                            Traceback (most recent call last)",
      "File \u001b[0;32m~/opt/anaconda3/envs/pydata_2024/lib/python3.12/site-packages/pytensor/configparser.py:201\u001b[0m, in \u001b[0;36mPyTensorConfigParser.fetch_val_for_key\u001b[0;34m(self, key, delete_key)\u001b[0m\n\u001b[1;32m    200\u001b[0m \u001b[38;5;28;01mtry\u001b[39;00m:\n\u001b[0;32m--> 201\u001b[0m     \u001b[38;5;28;01mreturn\u001b[39;00m \u001b[38;5;28;43mself\u001b[39;49m\u001b[38;5;241;43m.\u001b[39;49m\u001b[43m_pytensor_cfg\u001b[49m\u001b[38;5;241;43m.\u001b[39;49m\u001b[43mget\u001b[49m\u001b[43m(\u001b[49m\u001b[43msection\u001b[49m\u001b[43m,\u001b[49m\u001b[43m \u001b[49m\u001b[43moption\u001b[49m\u001b[43m)\u001b[49m\n\u001b[1;32m    202\u001b[0m \u001b[38;5;28;01mexcept\u001b[39;00m InterpolationError:\n",
      "File \u001b[0;32m~/opt/anaconda3/envs/pydata_2024/lib/python3.12/configparser.py:759\u001b[0m, in \u001b[0;36mRawConfigParser.get\u001b[0;34m(self, section, option, raw, vars, fallback)\u001b[0m\n\u001b[1;32m    758\u001b[0m \u001b[38;5;28;01mtry\u001b[39;00m:\n\u001b[0;32m--> 759\u001b[0m     d \u001b[38;5;241m=\u001b[39m \u001b[38;5;28;43mself\u001b[39;49m\u001b[38;5;241;43m.\u001b[39;49m\u001b[43m_unify_values\u001b[49m\u001b[43m(\u001b[49m\u001b[43msection\u001b[49m\u001b[43m,\u001b[49m\u001b[43m \u001b[49m\u001b[38;5;28;43mvars\u001b[39;49m\u001b[43m)\u001b[49m\n\u001b[1;32m    760\u001b[0m \u001b[38;5;28;01mexcept\u001b[39;00m NoSectionError:\n",
      "File \u001b[0;32m~/opt/anaconda3/envs/pydata_2024/lib/python3.12/configparser.py:1132\u001b[0m, in \u001b[0;36mRawConfigParser._unify_values\u001b[0;34m(self, section, vars)\u001b[0m\n\u001b[1;32m   1131\u001b[0m     \u001b[38;5;28;01mif\u001b[39;00m section \u001b[38;5;241m!=\u001b[39m \u001b[38;5;28mself\u001b[39m\u001b[38;5;241m.\u001b[39mdefault_section:\n\u001b[0;32m-> 1132\u001b[0m         \u001b[38;5;28;01mraise\u001b[39;00m NoSectionError(section) \u001b[38;5;28;01mfrom\u001b[39;00m \u001b[38;5;28;01mNone\u001b[39;00m\n\u001b[1;32m   1133\u001b[0m \u001b[38;5;66;03m# Update with the entry specific variables\u001b[39;00m\n",
      "\u001b[0;31mNoSectionError\u001b[0m: No section: 'blas'",
      "\nDuring handling of the above exception, another exception occurred:\n",
      "\u001b[0;31mKeyError\u001b[0m                                  Traceback (most recent call last)",
      "File \u001b[0;32m~/opt/anaconda3/envs/pydata_2024/lib/python3.12/site-packages/pytensor/configparser.py:317\u001b[0m, in \u001b[0;36mConfigParam.__get__\u001b[0;34m(self, cls, type_, delete_key)\u001b[0m\n\u001b[1;32m    316\u001b[0m \u001b[38;5;28;01mtry\u001b[39;00m:\n\u001b[0;32m--> 317\u001b[0m     val_str \u001b[38;5;241m=\u001b[39m \u001b[38;5;28;43mcls\u001b[39;49m\u001b[38;5;241;43m.\u001b[39;49m\u001b[43mfetch_val_for_key\u001b[49m\u001b[43m(\u001b[49m\u001b[38;5;28;43mself\u001b[39;49m\u001b[38;5;241;43m.\u001b[39;49m\u001b[43mname\u001b[49m\u001b[43m,\u001b[49m\u001b[43m \u001b[49m\u001b[43mdelete_key\u001b[49m\u001b[38;5;241;43m=\u001b[39;49m\u001b[43mdelete_key\u001b[49m\u001b[43m)\u001b[49m\n\u001b[1;32m    318\u001b[0m     \u001b[38;5;28mself\u001b[39m\u001b[38;5;241m.\u001b[39mis_default \u001b[38;5;241m=\u001b[39m \u001b[38;5;28;01mFalse\u001b[39;00m\n",
      "File \u001b[0;32m~/opt/anaconda3/envs/pydata_2024/lib/python3.12/site-packages/pytensor/configparser.py:205\u001b[0m, in \u001b[0;36mPyTensorConfigParser.fetch_val_for_key\u001b[0;34m(self, key, delete_key)\u001b[0m\n\u001b[1;32m    204\u001b[0m \u001b[38;5;28;01mexcept\u001b[39;00m (NoOptionError, NoSectionError):\n\u001b[0;32m--> 205\u001b[0m     \u001b[38;5;28;01mraise\u001b[39;00m \u001b[38;5;167;01mKeyError\u001b[39;00m(key)\n",
      "\u001b[0;31mKeyError\u001b[0m: 'blas__ldflags'",
      "\nDuring handling of the above exception, another exception occurred:\n",
      "\u001b[0;31mKeyboardInterrupt\u001b[0m                         Traceback (most recent call last)",
      "Cell \u001b[0;32mIn[1], line 3\u001b[0m\n\u001b[1;32m      1\u001b[0m \u001b[38;5;28;01mimport\u001b[39;00m \u001b[38;5;21;01marviz\u001b[39;00m \u001b[38;5;28;01mas\u001b[39;00m \u001b[38;5;21;01maz\u001b[39;00m\n\u001b[0;32m----> 3\u001b[0m \u001b[38;5;28;01mimport\u001b[39;00m \u001b[38;5;21;01mcausalpy\u001b[39;00m \u001b[38;5;28;01mas\u001b[39;00m \u001b[38;5;21;01mcp\u001b[39;00m\n",
      "File \u001b[0;32m~/opt/anaconda3/envs/pydata_2024/lib/python3.12/site-packages/causalpy/__init__.py:16\u001b[0m\n\u001b[1;32m      1\u001b[0m \u001b[38;5;66;03m#   Copyright 2024 The PyMC Labs Developers\u001b[39;00m\n\u001b[1;32m      2\u001b[0m \u001b[38;5;66;03m#\u001b[39;00m\n\u001b[1;32m      3\u001b[0m \u001b[38;5;66;03m#   Licensed under the Apache License, Version 2.0 (the \"License\");\u001b[39;00m\n\u001b[0;32m   (...)\u001b[0m\n\u001b[1;32m     12\u001b[0m \u001b[38;5;66;03m#   See the License for the specific language governing permissions and\u001b[39;00m\n\u001b[1;32m     13\u001b[0m \u001b[38;5;66;03m#   limitations under the License.\u001b[39;00m\n\u001b[1;32m     14\u001b[0m \u001b[38;5;28;01mimport\u001b[39;00m \u001b[38;5;21;01marviz\u001b[39;00m \u001b[38;5;28;01mas\u001b[39;00m \u001b[38;5;21;01maz\u001b[39;00m\n\u001b[0;32m---> 16\u001b[0m \u001b[38;5;28;01mfrom\u001b[39;00m \u001b[38;5;21;01mcausalpy\u001b[39;00m \u001b[38;5;28;01mimport\u001b[39;00m pymc_experiments, pymc_models, skl_experiments, skl_models\n\u001b[1;32m     17\u001b[0m \u001b[38;5;28;01mfrom\u001b[39;00m \u001b[38;5;21;01mcausalpy\u001b[39;00m\u001b[38;5;21;01m.\u001b[39;00m\u001b[38;5;21;01mversion\u001b[39;00m \u001b[38;5;28;01mimport\u001b[39;00m __version__\n\u001b[1;32m     19\u001b[0m \u001b[38;5;28;01mfrom\u001b[39;00m \u001b[38;5;21;01m.\u001b[39;00m\u001b[38;5;21;01mdata\u001b[39;00m \u001b[38;5;28;01mimport\u001b[39;00m load_data\n",
      "File \u001b[0;32m~/opt/anaconda3/envs/pydata_2024/lib/python3.12/site-packages/causalpy/pymc_models.py:32\u001b[0m\n\u001b[1;32m     30\u001b[0m \u001b[38;5;28;01mimport\u001b[39;00m \u001b[38;5;21;01mnumpy\u001b[39;00m \u001b[38;5;28;01mas\u001b[39;00m \u001b[38;5;21;01mnp\u001b[39;00m\n\u001b[1;32m     31\u001b[0m \u001b[38;5;28;01mimport\u001b[39;00m \u001b[38;5;21;01mpandas\u001b[39;00m \u001b[38;5;28;01mas\u001b[39;00m \u001b[38;5;21;01mpd\u001b[39;00m\n\u001b[0;32m---> 32\u001b[0m \u001b[38;5;28;01mimport\u001b[39;00m \u001b[38;5;21;01mpymc\u001b[39;00m \u001b[38;5;28;01mas\u001b[39;00m \u001b[38;5;21;01mpm\u001b[39;00m\n\u001b[1;32m     33\u001b[0m \u001b[38;5;28;01mimport\u001b[39;00m \u001b[38;5;21;01mpytensor\u001b[39;00m\u001b[38;5;21;01m.\u001b[39;00m\u001b[38;5;21;01mtensor\u001b[39;00m \u001b[38;5;28;01mas\u001b[39;00m \u001b[38;5;21;01mpt\u001b[39;00m\n\u001b[1;32m     34\u001b[0m \u001b[38;5;28;01mfrom\u001b[39;00m \u001b[38;5;21;01marviz\u001b[39;00m \u001b[38;5;28;01mimport\u001b[39;00m r2_score\n",
      "File \u001b[0;32m~/opt/anaconda3/envs/pydata_2024/lib/python3.12/site-packages/pymc/__init__.py:46\u001b[0m\n\u001b[1;32m     41\u001b[0m     augmented \u001b[38;5;241m=\u001b[39m \u001b[38;5;124mf\u001b[39m\u001b[38;5;124m\"\u001b[39m\u001b[38;5;132;01m{\u001b[39;00maugmented\u001b[38;5;132;01m}\u001b[39;00m\u001b[38;5;124m -fno-unwind-tables -fno-asynchronous-unwind-tables\u001b[39m\u001b[38;5;124m\"\u001b[39m\n\u001b[1;32m     43\u001b[0m     pytensor\u001b[38;5;241m.\u001b[39mconfig\u001b[38;5;241m.\u001b[39mgcc__cxxflags \u001b[38;5;241m=\u001b[39m augmented\n\u001b[0;32m---> 46\u001b[0m \u001b[43m__set_compiler_flags\u001b[49m\u001b[43m(\u001b[49m\u001b[43m)\u001b[49m\n\u001b[1;32m     48\u001b[0m \u001b[38;5;28;01mfrom\u001b[39;00m \u001b[38;5;21;01mpymc\u001b[39;00m \u001b[38;5;28;01mimport\u001b[39;00m _version, gp, ode, sampling\n\u001b[1;32m     49\u001b[0m \u001b[38;5;28;01mfrom\u001b[39;00m \u001b[38;5;21;01mpymc\u001b[39;00m\u001b[38;5;21;01m.\u001b[39;00m\u001b[38;5;21;01mbackends\u001b[39;00m \u001b[38;5;28;01mimport\u001b[39;00m \u001b[38;5;241m*\u001b[39m\n",
      "File \u001b[0;32m~/opt/anaconda3/envs/pydata_2024/lib/python3.12/site-packages/pymc/__init__.py:29\u001b[0m, in \u001b[0;36m__set_compiler_flags\u001b[0;34m()\u001b[0m\n\u001b[1;32m     27\u001b[0m \u001b[38;5;28;01mdef\u001b[39;00m \u001b[38;5;21m__set_compiler_flags\u001b[39m():\n\u001b[1;32m     28\u001b[0m     \u001b[38;5;66;03m# Workarounds for PyTensor compiler problems on various platforms\u001b[39;00m\n\u001b[0;32m---> 29\u001b[0m     \u001b[38;5;28;01mimport\u001b[39;00m \u001b[38;5;21;01mpytensor\u001b[39;00m\n\u001b[1;32m     31\u001b[0m     current \u001b[38;5;241m=\u001b[39m pytensor\u001b[38;5;241m.\u001b[39mconfig\u001b[38;5;241m.\u001b[39mgcc__cxxflags\n\u001b[1;32m     32\u001b[0m     augmented \u001b[38;5;241m=\u001b[39m \u001b[38;5;124mf\u001b[39m\u001b[38;5;124m\"\u001b[39m\u001b[38;5;132;01m{\u001b[39;00mcurrent\u001b[38;5;132;01m}\u001b[39;00m\u001b[38;5;124m -Wno-c++11-narrowing\u001b[39m\u001b[38;5;124m\"\u001b[39m\n",
      "File \u001b[0;32m~/opt/anaconda3/envs/pydata_2024/lib/python3.12/site-packages/pytensor/__init__.py:118\u001b[0m\n\u001b[1;32m    114\u001b[0m     \u001b[38;5;28;01mreturn\u001b[39;00m as_tensor_variable(x, \u001b[38;5;241m*\u001b[39m\u001b[38;5;241m*\u001b[39mkwargs)\n\u001b[1;32m    117\u001b[0m \u001b[38;5;66;03m# isort: off\u001b[39;00m\n\u001b[0;32m--> 118\u001b[0m \u001b[38;5;28;01mfrom\u001b[39;00m \u001b[38;5;21;01mpytensor\u001b[39;00m \u001b[38;5;28;01mimport\u001b[39;00m scalar, tensor\n\u001b[1;32m    119\u001b[0m \u001b[38;5;28;01mfrom\u001b[39;00m \u001b[38;5;21;01mpytensor\u001b[39;00m\u001b[38;5;21;01m.\u001b[39;00m\u001b[38;5;21;01mcompile\u001b[39;00m \u001b[38;5;28;01mimport\u001b[39;00m (\n\u001b[1;32m    120\u001b[0m     In,\n\u001b[1;32m    121\u001b[0m     Mode,\n\u001b[0;32m   (...)\u001b[0m\n\u001b[1;32m    127\u001b[0m     shared,\n\u001b[1;32m    128\u001b[0m )\n\u001b[1;32m    129\u001b[0m \u001b[38;5;28;01mfrom\u001b[39;00m \u001b[38;5;21;01mpytensor\u001b[39;00m\u001b[38;5;21;01m.\u001b[39;00m\u001b[38;5;21;01mcompile\u001b[39;00m\u001b[38;5;21;01m.\u001b[39;00m\u001b[38;5;21;01mfunction\u001b[39;00m \u001b[38;5;28;01mimport\u001b[39;00m function, function_dump\n",
      "File \u001b[0;32m~/opt/anaconda3/envs/pydata_2024/lib/python3.12/site-packages/pytensor/tensor/__init__.py:103\u001b[0m\n\u001b[1;32m     99\u001b[0m     \u001b[38;5;28;01mreturn\u001b[39;00m \u001b[38;5;28mlen\u001b[39m(var\u001b[38;5;241m.\u001b[39mdata)\n\u001b[1;32m    102\u001b[0m \u001b[38;5;28;01mimport\u001b[39;00m \u001b[38;5;21;01mpytensor\u001b[39;00m\u001b[38;5;21;01m.\u001b[39;00m\u001b[38;5;21;01mtensor\u001b[39;00m\u001b[38;5;21;01m.\u001b[39;00m\u001b[38;5;21;01mexceptions\u001b[39;00m\n\u001b[0;32m--> 103\u001b[0m \u001b[38;5;28;01mimport\u001b[39;00m \u001b[38;5;21;01mpytensor\u001b[39;00m\u001b[38;5;21;01m.\u001b[39;00m\u001b[38;5;21;01mtensor\u001b[39;00m\u001b[38;5;21;01m.\u001b[39;00m\u001b[38;5;21;01mrewriting\u001b[39;00m\n\u001b[1;32m    104\u001b[0m \u001b[38;5;28;01mfrom\u001b[39;00m \u001b[38;5;21;01mpytensor\u001b[39;00m\u001b[38;5;21;01m.\u001b[39;00m\u001b[38;5;21;01mgradient\u001b[39;00m \u001b[38;5;28;01mimport\u001b[39;00m grad, hessian, jacobian\n\u001b[1;32m    106\u001b[0m \u001b[38;5;66;03m# adds shared-variable constructors\u001b[39;00m\n",
      "File \u001b[0;32m~/opt/anaconda3/envs/pydata_2024/lib/python3.12/site-packages/pytensor/tensor/rewriting/__init__.py:2\u001b[0m\n\u001b[1;32m      1\u001b[0m \u001b[38;5;28;01mimport\u001b[39;00m \u001b[38;5;21;01mpytensor\u001b[39;00m\u001b[38;5;21;01m.\u001b[39;00m\u001b[38;5;21;01mtensor\u001b[39;00m\u001b[38;5;21;01m.\u001b[39;00m\u001b[38;5;21;01mrewriting\u001b[39;00m\u001b[38;5;21;01m.\u001b[39;00m\u001b[38;5;21;01mbasic\u001b[39;00m\n\u001b[0;32m----> 2\u001b[0m \u001b[38;5;28;01mimport\u001b[39;00m \u001b[38;5;21;01mpytensor\u001b[39;00m\u001b[38;5;21;01m.\u001b[39;00m\u001b[38;5;21;01mtensor\u001b[39;00m\u001b[38;5;21;01m.\u001b[39;00m\u001b[38;5;21;01mrewriting\u001b[39;00m\u001b[38;5;21;01m.\u001b[39;00m\u001b[38;5;21;01mblas\u001b[39;00m\n\u001b[1;32m      3\u001b[0m \u001b[38;5;28;01mimport\u001b[39;00m \u001b[38;5;21;01mpytensor\u001b[39;00m\u001b[38;5;21;01m.\u001b[39;00m\u001b[38;5;21;01mtensor\u001b[39;00m\u001b[38;5;21;01m.\u001b[39;00m\u001b[38;5;21;01mrewriting\u001b[39;00m\u001b[38;5;21;01m.\u001b[39;00m\u001b[38;5;21;01mblas_c\u001b[39;00m\n\u001b[1;32m      4\u001b[0m \u001b[38;5;28;01mimport\u001b[39;00m \u001b[38;5;21;01mpytensor\u001b[39;00m\u001b[38;5;21;01m.\u001b[39;00m\u001b[38;5;21;01mtensor\u001b[39;00m\u001b[38;5;21;01m.\u001b[39;00m\u001b[38;5;21;01mrewriting\u001b[39;00m\u001b[38;5;21;01m.\u001b[39;00m\u001b[38;5;21;01mblas_scipy\u001b[39;00m\n",
      "File \u001b[0;32m~/opt/anaconda3/envs/pydata_2024/lib/python3.12/site-packages/pytensor/tensor/rewriting/blas.py:85\u001b[0m\n\u001b[1;32m     83\u001b[0m \u001b[38;5;28;01mfrom\u001b[39;00m \u001b[38;5;21;01mpytensor\u001b[39;00m\u001b[38;5;21;01m.\u001b[39;00m\u001b[38;5;21;01mgraph\u001b[39;00m\u001b[38;5;21;01m.\u001b[39;00m\u001b[38;5;21;01mutils\u001b[39;00m \u001b[38;5;28;01mimport\u001b[39;00m InconsistencyError\n\u001b[1;32m     84\u001b[0m \u001b[38;5;28;01mfrom\u001b[39;00m \u001b[38;5;21;01mpytensor\u001b[39;00m\u001b[38;5;21;01m.\u001b[39;00m\u001b[38;5;21;01mtensor\u001b[39;00m \u001b[38;5;28;01mimport\u001b[39;00m basic \u001b[38;5;28;01mas\u001b[39;00m ptb\n\u001b[0;32m---> 85\u001b[0m \u001b[38;5;28;01mfrom\u001b[39;00m \u001b[38;5;21;01mpytensor\u001b[39;00m\u001b[38;5;21;01m.\u001b[39;00m\u001b[38;5;21;01mtensor\u001b[39;00m\u001b[38;5;21;01m.\u001b[39;00m\u001b[38;5;21;01mblas\u001b[39;00m \u001b[38;5;28;01mimport\u001b[39;00m (\n\u001b[1;32m     86\u001b[0m     Dot22,\n\u001b[1;32m     87\u001b[0m     _dot22,\n\u001b[1;32m     88\u001b[0m     _dot22scalar,\n\u001b[1;32m     89\u001b[0m     batched_dot,\n\u001b[1;32m     90\u001b[0m     gemm_inplace,\n\u001b[1;32m     91\u001b[0m     gemm_no_inplace,\n\u001b[1;32m     92\u001b[0m     gemv_inplace,\n\u001b[1;32m     93\u001b[0m     gemv_no_inplace,\n\u001b[1;32m     94\u001b[0m     ger,\n\u001b[1;32m     95\u001b[0m     ger_destructive,\n\u001b[1;32m     96\u001b[0m )\n\u001b[1;32m     97\u001b[0m \u001b[38;5;28;01mfrom\u001b[39;00m \u001b[38;5;21;01mpytensor\u001b[39;00m\u001b[38;5;21;01m.\u001b[39;00m\u001b[38;5;21;01mtensor\u001b[39;00m\u001b[38;5;21;01m.\u001b[39;00m\u001b[38;5;21;01melemwise\u001b[39;00m \u001b[38;5;28;01mimport\u001b[39;00m DimShuffle, Elemwise\n\u001b[1;32m     98\u001b[0m \u001b[38;5;28;01mfrom\u001b[39;00m \u001b[38;5;21;01mpytensor\u001b[39;00m\u001b[38;5;21;01m.\u001b[39;00m\u001b[38;5;21;01mtensor\u001b[39;00m\u001b[38;5;21;01m.\u001b[39;00m\u001b[38;5;21;01mexceptions\u001b[39;00m \u001b[38;5;28;01mimport\u001b[39;00m NotScalarConstantError\n",
      "File \u001b[0;32m~/opt/anaconda3/envs/pydata_2024/lib/python3.12/site-packages/pytensor/tensor/blas.py:102\u001b[0m\n\u001b[1;32m    100\u001b[0m \u001b[38;5;28;01mfrom\u001b[39;00m \u001b[38;5;21;01mpytensor\u001b[39;00m\u001b[38;5;21;01m.\u001b[39;00m\u001b[38;5;21;01mtensor\u001b[39;00m \u001b[38;5;28;01mimport\u001b[39;00m basic \u001b[38;5;28;01mas\u001b[39;00m ptb\n\u001b[1;32m    101\u001b[0m \u001b[38;5;28;01mfrom\u001b[39;00m \u001b[38;5;21;01mpytensor\u001b[39;00m\u001b[38;5;21;01m.\u001b[39;00m\u001b[38;5;21;01mtensor\u001b[39;00m\u001b[38;5;21;01m.\u001b[39;00m\u001b[38;5;21;01mbasic\u001b[39;00m \u001b[38;5;28;01mimport\u001b[39;00m expand_dims\n\u001b[0;32m--> 102\u001b[0m \u001b[38;5;28;01mfrom\u001b[39;00m \u001b[38;5;21;01mpytensor\u001b[39;00m\u001b[38;5;21;01m.\u001b[39;00m\u001b[38;5;21;01mtensor\u001b[39;00m\u001b[38;5;21;01m.\u001b[39;00m\u001b[38;5;21;01mblas_headers\u001b[39;00m \u001b[38;5;28;01mimport\u001b[39;00m blas_header_text, blas_header_version\n\u001b[1;32m    103\u001b[0m \u001b[38;5;28;01mfrom\u001b[39;00m \u001b[38;5;21;01mpytensor\u001b[39;00m\u001b[38;5;21;01m.\u001b[39;00m\u001b[38;5;21;01mtensor\u001b[39;00m\u001b[38;5;21;01m.\u001b[39;00m\u001b[38;5;21;01melemwise\u001b[39;00m \u001b[38;5;28;01mimport\u001b[39;00m DimShuffle\n\u001b[1;32m    104\u001b[0m \u001b[38;5;28;01mfrom\u001b[39;00m \u001b[38;5;21;01mpytensor\u001b[39;00m\u001b[38;5;21;01m.\u001b[39;00m\u001b[38;5;21;01mtensor\u001b[39;00m\u001b[38;5;21;01m.\u001b[39;00m\u001b[38;5;21;01mmath\u001b[39;00m \u001b[38;5;28;01mimport\u001b[39;00m add, mul, neg, sub\n",
      "File \u001b[0;32m~/opt/anaconda3/envs/pydata_2024/lib/python3.12/site-packages/pytensor/tensor/blas_headers.py:1015\u001b[0m\n\u001b[1;32m    997\u001b[0m             header \u001b[38;5;241m+\u001b[39m\u001b[38;5;241m=\u001b[39m textwrap\u001b[38;5;241m.\u001b[39mdedent(\n\u001b[1;32m    998\u001b[0m \u001b[38;5;250m                \u001b[39m\u001b[38;5;124;03m\"\"\"\\\u001b[39;00m\n\u001b[1;32m    999\u001b[0m \u001b[38;5;124;03m                    static float sdot_(int* Nx, float* x, int* Sx, float* y, int* Sy)\u001b[39;00m\n\u001b[0;32m   (...)\u001b[0m\n\u001b[1;32m   1009\u001b[0m \u001b[38;5;124;03m                    \"\"\"\u001b[39;00m\n\u001b[1;32m   1010\u001b[0m             )\n\u001b[1;32m   1012\u001b[0m     \u001b[38;5;28;01mreturn\u001b[39;00m header \u001b[38;5;241m+\u001b[39m blas_code\n\u001b[0;32m-> 1015\u001b[0m \u001b[38;5;28;01mif\u001b[39;00m \u001b[38;5;129;01mnot\u001b[39;00m \u001b[43mconfig\u001b[49m\u001b[38;5;241;43m.\u001b[39;49m\u001b[43mblas__ldflags\u001b[49m:\n\u001b[1;32m   1016\u001b[0m     _logger\u001b[38;5;241m.\u001b[39mwarning(\u001b[38;5;124m\"\u001b[39m\u001b[38;5;124mUsing NumPy C-API based implementation for BLAS functions.\u001b[39m\u001b[38;5;124m\"\u001b[39m)\n\u001b[1;32m   1019\u001b[0m \u001b[38;5;28;01mdef\u001b[39;00m \u001b[38;5;21mmkl_threads_text\u001b[39m():\n",
      "File \u001b[0;32m~/opt/anaconda3/envs/pydata_2024/lib/python3.12/site-packages/pytensor/configparser.py:321\u001b[0m, in \u001b[0;36mConfigParam.__get__\u001b[0;34m(self, cls, type_, delete_key)\u001b[0m\n\u001b[1;32m    319\u001b[0m \u001b[38;5;28;01mexcept\u001b[39;00m \u001b[38;5;167;01mKeyError\u001b[39;00m:\n\u001b[1;32m    320\u001b[0m     \u001b[38;5;28;01mif\u001b[39;00m \u001b[38;5;28mcallable\u001b[39m(\u001b[38;5;28mself\u001b[39m\u001b[38;5;241m.\u001b[39mdefault):\n\u001b[0;32m--> 321\u001b[0m         val_str \u001b[38;5;241m=\u001b[39m \u001b[38;5;28;43mself\u001b[39;49m\u001b[38;5;241;43m.\u001b[39;49m\u001b[43mdefault\u001b[49m\u001b[43m(\u001b[49m\u001b[43m)\u001b[49m\n\u001b[1;32m    322\u001b[0m     \u001b[38;5;28;01melse\u001b[39;00m:\n\u001b[1;32m    323\u001b[0m         val_str \u001b[38;5;241m=\u001b[39m \u001b[38;5;28mself\u001b[39m\u001b[38;5;241m.\u001b[39mdefault\n",
      "File \u001b[0;32m~/opt/anaconda3/envs/pydata_2024/lib/python3.12/site-packages/pytensor/link/c/cmodule.py:2872\u001b[0m, in \u001b[0;36mdefault_blas_ldflags\u001b[0;34m()\u001b[0m\n\u001b[1;32m   2870\u001b[0m     _logger\u001b[38;5;241m.\u001b[39mdebug(\u001b[38;5;124m\"\u001b[39m\u001b[38;5;124mChecking Lapack + blas\u001b[39m\u001b[38;5;124m\"\u001b[39m)\n\u001b[1;32m   2871\u001b[0m     \u001b[38;5;66;03m# 3. Try to use LAPACK + BLAS\u001b[39;00m\n\u001b[0;32m-> 2872\u001b[0m     \u001b[38;5;28;01mreturn\u001b[39;00m \u001b[43mcheck_libs\u001b[49m\u001b[43m(\u001b[49m\n\u001b[1;32m   2873\u001b[0m \u001b[43m        \u001b[49m\u001b[43mall_libs\u001b[49m\u001b[43m,\u001b[49m\n\u001b[1;32m   2874\u001b[0m \u001b[43m        \u001b[49m\u001b[43mrequired_libs\u001b[49m\u001b[38;5;241;43m=\u001b[39;49m\u001b[43m[\u001b[49m\u001b[38;5;124;43m\"\u001b[39;49m\u001b[38;5;124;43mlapack\u001b[39;49m\u001b[38;5;124;43m\"\u001b[39;49m\u001b[43m,\u001b[49m\u001b[43m \u001b[49m\u001b[38;5;124;43m\"\u001b[39;49m\u001b[38;5;124;43mblas\u001b[39;49m\u001b[38;5;124;43m\"\u001b[39;49m\u001b[43m,\u001b[49m\u001b[43m \u001b[49m\u001b[38;5;124;43m\"\u001b[39;49m\u001b[38;5;124;43mcblas\u001b[39;49m\u001b[38;5;124;43m\"\u001b[39;49m\u001b[43m,\u001b[49m\u001b[43m \u001b[49m\u001b[38;5;124;43m\"\u001b[39;49m\u001b[38;5;124;43mm\u001b[39;49m\u001b[38;5;124;43m\"\u001b[39;49m\u001b[43m]\u001b[49m\u001b[43m,\u001b[49m\n\u001b[1;32m   2875\u001b[0m \u001b[43m        \u001b[49m\u001b[43mextra_compile_flags\u001b[49m\u001b[38;5;241;43m=\u001b[39;49m\u001b[43m[\u001b[49m\u001b[38;5;124;43mf\u001b[39;49m\u001b[38;5;124;43m\"\u001b[39;49m\u001b[38;5;124;43m-Wl,-rpath,\u001b[39;49m\u001b[38;5;132;43;01m{\u001b[39;49;00m\u001b[43mrpath\u001b[49m\u001b[38;5;132;43;01m}\u001b[39;49;00m\u001b[38;5;124;43m\"\u001b[39;49m\u001b[43m]\u001b[49m\u001b[43m \u001b[49m\u001b[38;5;28;43;01mif\u001b[39;49;00m\u001b[43m \u001b[49m\u001b[43mrpath\u001b[49m\u001b[43m \u001b[49m\u001b[38;5;129;43;01mis\u001b[39;49;00m\u001b[43m \u001b[49m\u001b[38;5;129;43;01mnot\u001b[39;49;00m\u001b[43m \u001b[49m\u001b[38;5;28;43;01mNone\u001b[39;49;00m\u001b[43m \u001b[49m\u001b[38;5;28;43;01melse\u001b[39;49;00m\u001b[43m \u001b[49m\u001b[43m[\u001b[49m\u001b[43m]\u001b[49m\u001b[43m,\u001b[49m\n\u001b[1;32m   2876\u001b[0m \u001b[43m        \u001b[49m\u001b[43mcxx_library_dirs\u001b[49m\u001b[38;5;241;43m=\u001b[39;49m\u001b[43mcxx_library_dirs\u001b[49m\u001b[43m,\u001b[49m\n\u001b[1;32m   2877\u001b[0m \u001b[43m    \u001b[49m\u001b[43m)\u001b[49m\n\u001b[1;32m   2878\u001b[0m \u001b[38;5;28;01mexcept\u001b[39;00m \u001b[38;5;167;01mException\u001b[39;00m \u001b[38;5;28;01mas\u001b[39;00m e:\n\u001b[1;32m   2879\u001b[0m     _logger\u001b[38;5;241m.\u001b[39mdebug(e)\n",
      "File \u001b[0;32m~/opt/anaconda3/envs/pydata_2024/lib/python3.12/site-packages/pytensor/link/c/cmodule.py:2791\u001b[0m, in \u001b[0;36mdefault_blas_ldflags.<locals>.check_libs\u001b[0;34m(all_libs, required_libs, extra_compile_flags, cxx_library_dirs)\u001b[0m\n\u001b[1;32m   2776\u001b[0m libdir_ldflags \u001b[38;5;241m=\u001b[39m \u001b[38;5;28mlist\u001b[39m(\n\u001b[1;32m   2777\u001b[0m     \u001b[38;5;28mdict\u001b[39m\u001b[38;5;241m.\u001b[39mfromkeys(\n\u001b[1;32m   2778\u001b[0m         [\n\u001b[0;32m   (...)\u001b[0m\n\u001b[1;32m   2783\u001b[0m     )\n\u001b[1;32m   2784\u001b[0m )\n\u001b[1;32m   2786\u001b[0m flags \u001b[38;5;241m=\u001b[39m (\n\u001b[1;32m   2787\u001b[0m     libdir_ldflags\n\u001b[1;32m   2788\u001b[0m     \u001b[38;5;241m+\u001b[39m [\u001b[38;5;124mf\u001b[39m\u001b[38;5;124m\"\u001b[39m\u001b[38;5;124m-l\u001b[39m\u001b[38;5;132;01m{\u001b[39;00mlib_name\u001b[38;5;132;01m}\u001b[39;00m\u001b[38;5;124m\"\u001b[39m \u001b[38;5;28;01mfor\u001b[39;00m _, lib_name \u001b[38;5;129;01min\u001b[39;00m found_libs]\n\u001b[1;32m   2789\u001b[0m     \u001b[38;5;241m+\u001b[39m extra_compile_flags\n\u001b[1;32m   2790\u001b[0m )\n\u001b[0;32m-> 2791\u001b[0m res \u001b[38;5;241m=\u001b[39m \u001b[43mtry_blas_flag\u001b[49m\u001b[43m(\u001b[49m\u001b[43mflags\u001b[49m\u001b[43m)\u001b[49m\n\u001b[1;32m   2792\u001b[0m \u001b[38;5;28;01mif\u001b[39;00m res:\n\u001b[1;32m   2793\u001b[0m     \u001b[38;5;28;01mif\u001b[39;00m \u001b[38;5;28many\u001b[39m(\u001b[38;5;124m\"\u001b[39m\u001b[38;5;124mmkl\u001b[39m\u001b[38;5;124m\"\u001b[39m \u001b[38;5;129;01min\u001b[39;00m flag \u001b[38;5;28;01mfor\u001b[39;00m flag \u001b[38;5;129;01min\u001b[39;00m flags):\n",
      "File \u001b[0;32m~/opt/anaconda3/envs/pydata_2024/lib/python3.12/site-packages/pytensor/link/c/cmodule.py:2008\u001b[0m, in \u001b[0;36mtry_blas_flag\u001b[0;34m(flags)\u001b[0m\n\u001b[1;32m   2005\u001b[0m path_wrapper \u001b[38;5;241m=\u001b[39m \u001b[38;5;124m'\u001b[39m\u001b[38;5;124m\"\u001b[39m\u001b[38;5;124m'\u001b[39m \u001b[38;5;28;01mif\u001b[39;00m os\u001b[38;5;241m.\u001b[39mname \u001b[38;5;241m==\u001b[39m \u001b[38;5;124m\"\u001b[39m\u001b[38;5;124mnt\u001b[39m\u001b[38;5;124m\"\u001b[39m \u001b[38;5;28;01melse\u001b[39;00m \u001b[38;5;124m\"\u001b[39m\u001b[38;5;124m\"\u001b[39m\n\u001b[1;32m   2006\u001b[0m cflags\u001b[38;5;241m.\u001b[39mextend([\u001b[38;5;124mf\u001b[39m\u001b[38;5;124m\"\u001b[39m\u001b[38;5;124m-L\u001b[39m\u001b[38;5;132;01m{\u001b[39;00mpath_wrapper\u001b[38;5;132;01m}\u001b[39;00m\u001b[38;5;132;01m{\u001b[39;00md\u001b[38;5;132;01m}\u001b[39;00m\u001b[38;5;132;01m{\u001b[39;00mpath_wrapper\u001b[38;5;132;01m}\u001b[39;00m\u001b[38;5;124m\"\u001b[39m \u001b[38;5;28;01mfor\u001b[39;00m d \u001b[38;5;129;01min\u001b[39;00m std_lib_dirs()])\n\u001b[0;32m-> 2008\u001b[0m res \u001b[38;5;241m=\u001b[39m \u001b[43mGCC_compiler\u001b[49m\u001b[38;5;241;43m.\u001b[39;49m\u001b[43mtry_compile_tmp\u001b[49m\u001b[43m(\u001b[49m\n\u001b[1;32m   2009\u001b[0m \u001b[43m    \u001b[49m\u001b[43mtest_code\u001b[49m\u001b[43m,\u001b[49m\u001b[43m \u001b[49m\u001b[43mtmp_prefix\u001b[49m\u001b[38;5;241;43m=\u001b[39;49m\u001b[38;5;124;43m\"\u001b[39;49m\u001b[38;5;124;43mtry_blas_\u001b[39;49m\u001b[38;5;124;43m\"\u001b[39;49m\u001b[43m,\u001b[49m\u001b[43m \u001b[49m\u001b[43mflags\u001b[49m\u001b[38;5;241;43m=\u001b[39;49m\u001b[43mcflags\u001b[49m\u001b[43m,\u001b[49m\u001b[43m \u001b[49m\u001b[43mtry_run\u001b[49m\u001b[38;5;241;43m=\u001b[39;49m\u001b[38;5;28;43;01mTrue\u001b[39;49;00m\n\u001b[1;32m   2010\u001b[0m \u001b[43m\u001b[49m\u001b[43m)\u001b[49m\n\u001b[1;32m   2011\u001b[0m \u001b[38;5;66;03m# res[0]: shows successful compilation\u001b[39;00m\n\u001b[1;32m   2012\u001b[0m \u001b[38;5;66;03m# res[1]: shows successful execution\u001b[39;00m\n\u001b[1;32m   2013\u001b[0m \u001b[38;5;28;01mif\u001b[39;00m res \u001b[38;5;129;01mand\u001b[39;00m res[\u001b[38;5;241m0\u001b[39m] \u001b[38;5;129;01mand\u001b[39;00m res[\u001b[38;5;241m1\u001b[39m]:\n",
      "File \u001b[0;32m~/opt/anaconda3/envs/pydata_2024/lib/python3.12/site-packages/pytensor/link/c/cmodule.py:2404\u001b[0m, in \u001b[0;36mGCC_compiler.try_compile_tmp\u001b[0;34m(cls, src_code, tmp_prefix, flags, try_run, output, comp_args)\u001b[0m\n\u001b[1;32m   2394\u001b[0m \u001b[38;5;129m@classmethod\u001b[39m\n\u001b[1;32m   2395\u001b[0m \u001b[38;5;28;01mdef\u001b[39;00m \u001b[38;5;21mtry_compile_tmp\u001b[39m(\n\u001b[1;32m   2396\u001b[0m     \u001b[38;5;28mcls\u001b[39m,\n\u001b[0;32m   (...)\u001b[0m\n\u001b[1;32m   2402\u001b[0m     comp_args\u001b[38;5;241m=\u001b[39m\u001b[38;5;28;01mTrue\u001b[39;00m,\n\u001b[1;32m   2403\u001b[0m ):\n\u001b[0;32m-> 2404\u001b[0m     \u001b[38;5;28;01mreturn\u001b[39;00m \u001b[38;5;28;43mcls\u001b[39;49m\u001b[38;5;241;43m.\u001b[39;49m\u001b[43m_try_compile_tmp\u001b[49m\u001b[43m(\u001b[49m\n\u001b[1;32m   2405\u001b[0m \u001b[43m        \u001b[49m\u001b[43msrc_code\u001b[49m\u001b[43m,\u001b[49m\n\u001b[1;32m   2406\u001b[0m \u001b[43m        \u001b[49m\u001b[43mtmp_prefix\u001b[49m\u001b[43m,\u001b[49m\n\u001b[1;32m   2407\u001b[0m \u001b[43m        \u001b[49m\u001b[38;5;28;43mcls\u001b[39;49m\u001b[38;5;241;43m.\u001b[39;49m\u001b[43mpatch_ldflags\u001b[49m\u001b[43m(\u001b[49m\u001b[43mflags\u001b[49m\u001b[43m)\u001b[49m\u001b[43m,\u001b[49m\n\u001b[1;32m   2408\u001b[0m \u001b[43m        \u001b[49m\u001b[43mtry_run\u001b[49m\u001b[43m,\u001b[49m\n\u001b[1;32m   2409\u001b[0m \u001b[43m        \u001b[49m\u001b[43moutput\u001b[49m\u001b[43m,\u001b[49m\n\u001b[1;32m   2410\u001b[0m \u001b[43m        \u001b[49m\u001b[43mconfig\u001b[49m\u001b[38;5;241;43m.\u001b[39;49m\u001b[43mcxx\u001b[49m\u001b[43m,\u001b[49m\n\u001b[1;32m   2411\u001b[0m \u001b[43m        \u001b[49m\u001b[43mcomp_args\u001b[49m\u001b[43m,\u001b[49m\n\u001b[1;32m   2412\u001b[0m \u001b[43m    \u001b[49m\u001b[43m)\u001b[49m\n",
      "File \u001b[0;32m~/opt/anaconda3/envs/pydata_2024/lib/python3.12/site-packages/pytensor/link/c/cmodule.py:1884\u001b[0m, in \u001b[0;36mCompiler._try_compile_tmp\u001b[0;34m(cls, src_code, tmp_prefix, flags, try_run, output, compiler, comp_args)\u001b[0m\n\u001b[1;32m   1882\u001b[0m \u001b[38;5;66;03m# Get compile arguments from compiler method if required\u001b[39;00m\n\u001b[1;32m   1883\u001b[0m \u001b[38;5;28;01mif\u001b[39;00m comp_args:\n\u001b[0;32m-> 1884\u001b[0m     args \u001b[38;5;241m=\u001b[39m \u001b[38;5;28;43mcls\u001b[39;49m\u001b[38;5;241;43m.\u001b[39;49m\u001b[43mcompile_args\u001b[49m\u001b[43m(\u001b[49m\u001b[43m)\u001b[49m\n\u001b[1;32m   1885\u001b[0m \u001b[38;5;28;01melse\u001b[39;00m:\n\u001b[1;32m   1886\u001b[0m     args \u001b[38;5;241m=\u001b[39m []\n",
      "File \u001b[0;32m~/opt/anaconda3/envs/pydata_2024/lib/python3.12/site-packages/pytensor/link/c/cmodule.py:2288\u001b[0m, in \u001b[0;36mGCC_compiler.compile_args\u001b[0;34m(march_flags)\u001b[0m\n\u001b[1;32m   2277\u001b[0m         _logger\u001b[38;5;241m.\u001b[39minfo(\n\u001b[1;32m   2278\u001b[0m             \u001b[38;5;124mf\u001b[39m\u001b[38;5;124m\"\u001b[39m\u001b[38;5;124mg++ -march=native equivalent flags: \u001b[39m\u001b[38;5;132;01m{\u001b[39;00mGCC_compiler\u001b[38;5;241m.\u001b[39mmarch_flags\u001b[38;5;132;01m}\u001b[39;00m\u001b[38;5;124m\"\u001b[39m\n\u001b[1;32m   2279\u001b[0m         )\n\u001b[1;32m   2281\u001b[0m \u001b[38;5;66;03m# Find working march flag:\u001b[39;00m\n\u001b[1;32m   2282\u001b[0m \u001b[38;5;66;03m#   -- if current GCC_compiler.march_flags works, we're done.\u001b[39;00m\n\u001b[1;32m   2283\u001b[0m \u001b[38;5;66;03m#   -- else replace -march and -mtune with ['core-i7-avx', 'core-i7', 'core2']\u001b[39;00m\n\u001b[1;32m   2284\u001b[0m \u001b[38;5;66;03m#      and retry with all other flags and arguments intact.\u001b[39;00m\n\u001b[1;32m   2285\u001b[0m \u001b[38;5;66;03m#   -- else remove all other flags and only try with -march = default + flags_to_try.\u001b[39;00m\n\u001b[1;32m   2286\u001b[0m \u001b[38;5;66;03m#   -- if none of that worked, set GCC_compiler.march_flags = [] (for x86).\u001b[39;00m\n\u001b[0;32m-> 2288\u001b[0m default_compilation_result, default_execution_result \u001b[38;5;241m=\u001b[39m \u001b[43mtry_march_flag\u001b[49m\u001b[43m(\u001b[49m\n\u001b[1;32m   2289\u001b[0m \u001b[43m    \u001b[49m\u001b[43mGCC_compiler\u001b[49m\u001b[38;5;241;43m.\u001b[39;49m\u001b[43mmarch_flags\u001b[49m\n\u001b[1;32m   2290\u001b[0m \u001b[43m\u001b[49m\u001b[43m)\u001b[49m\n\u001b[1;32m   2291\u001b[0m \u001b[38;5;28;01mif\u001b[39;00m \u001b[38;5;129;01mnot\u001b[39;00m (default_compilation_result \u001b[38;5;129;01mand\u001b[39;00m default_execution_result):\n\u001b[1;32m   2292\u001b[0m     march_success \u001b[38;5;241m=\u001b[39m \u001b[38;5;28;01mFalse\u001b[39;00m\n",
      "File \u001b[0;32m~/opt/anaconda3/envs/pydata_2024/lib/python3.12/site-packages/pytensor/link/c/cmodule.py:2043\u001b[0m, in \u001b[0;36mtry_march_flag\u001b[0;34m(flags)\u001b[0m\n\u001b[1;32m   2024\u001b[0m test_code \u001b[38;5;241m=\u001b[39m textwrap\u001b[38;5;241m.\u001b[39mdedent(\n\u001b[1;32m   2025\u001b[0m \u001b[38;5;250m    \u001b[39m\u001b[38;5;124;03m\"\"\"\\\u001b[39;00m\n\u001b[1;32m   2026\u001b[0m \u001b[38;5;124;03m        #include <cmath>\u001b[39;00m\n\u001b[0;32m   (...)\u001b[0m\n\u001b[1;32m   2039\u001b[0m \u001b[38;5;124;03m        \"\"\"\u001b[39;00m\n\u001b[1;32m   2040\u001b[0m )\n\u001b[1;32m   2042\u001b[0m cflags \u001b[38;5;241m=\u001b[39m flags \u001b[38;5;241m+\u001b[39m [\u001b[38;5;124m\"\u001b[39m\u001b[38;5;124m-L\u001b[39m\u001b[38;5;124m\"\u001b[39m \u001b[38;5;241m+\u001b[39m d \u001b[38;5;28;01mfor\u001b[39;00m d \u001b[38;5;129;01min\u001b[39;00m std_lib_dirs()]\n\u001b[0;32m-> 2043\u001b[0m compilation_result, execution_result \u001b[38;5;241m=\u001b[39m \u001b[43mGCC_compiler\u001b[49m\u001b[38;5;241;43m.\u001b[39;49m\u001b[43mtry_compile_tmp\u001b[49m\u001b[43m(\u001b[49m\n\u001b[1;32m   2044\u001b[0m \u001b[43m    \u001b[49m\u001b[43mtest_code\u001b[49m\u001b[43m,\u001b[49m\u001b[43m \u001b[49m\u001b[43mtmp_prefix\u001b[49m\u001b[38;5;241;43m=\u001b[39;49m\u001b[38;5;124;43m\"\u001b[39;49m\u001b[38;5;124;43mtry_march_\u001b[39;49m\u001b[38;5;124;43m\"\u001b[39;49m\u001b[43m,\u001b[49m\u001b[43m \u001b[49m\u001b[43mflags\u001b[49m\u001b[38;5;241;43m=\u001b[39;49m\u001b[43mcflags\u001b[49m\u001b[43m,\u001b[49m\u001b[43m \u001b[49m\u001b[43mtry_run\u001b[49m\u001b[38;5;241;43m=\u001b[39;49m\u001b[38;5;28;43;01mTrue\u001b[39;49;00m\n\u001b[1;32m   2045\u001b[0m \u001b[43m\u001b[49m\u001b[43m)\u001b[49m\n\u001b[1;32m   2046\u001b[0m \u001b[38;5;28;01mreturn\u001b[39;00m compilation_result, execution_result\n",
      "File \u001b[0;32m~/opt/anaconda3/envs/pydata_2024/lib/python3.12/site-packages/pytensor/link/c/cmodule.py:2404\u001b[0m, in \u001b[0;36mGCC_compiler.try_compile_tmp\u001b[0;34m(cls, src_code, tmp_prefix, flags, try_run, output, comp_args)\u001b[0m\n\u001b[1;32m   2394\u001b[0m \u001b[38;5;129m@classmethod\u001b[39m\n\u001b[1;32m   2395\u001b[0m \u001b[38;5;28;01mdef\u001b[39;00m \u001b[38;5;21mtry_compile_tmp\u001b[39m(\n\u001b[1;32m   2396\u001b[0m     \u001b[38;5;28mcls\u001b[39m,\n\u001b[0;32m   (...)\u001b[0m\n\u001b[1;32m   2402\u001b[0m     comp_args\u001b[38;5;241m=\u001b[39m\u001b[38;5;28;01mTrue\u001b[39;00m,\n\u001b[1;32m   2403\u001b[0m ):\n\u001b[0;32m-> 2404\u001b[0m     \u001b[38;5;28;01mreturn\u001b[39;00m \u001b[38;5;28;43mcls\u001b[39;49m\u001b[38;5;241;43m.\u001b[39;49m\u001b[43m_try_compile_tmp\u001b[49m\u001b[43m(\u001b[49m\n\u001b[1;32m   2405\u001b[0m \u001b[43m        \u001b[49m\u001b[43msrc_code\u001b[49m\u001b[43m,\u001b[49m\n\u001b[1;32m   2406\u001b[0m \u001b[43m        \u001b[49m\u001b[43mtmp_prefix\u001b[49m\u001b[43m,\u001b[49m\n\u001b[1;32m   2407\u001b[0m \u001b[43m        \u001b[49m\u001b[38;5;28;43mcls\u001b[39;49m\u001b[38;5;241;43m.\u001b[39;49m\u001b[43mpatch_ldflags\u001b[49m\u001b[43m(\u001b[49m\u001b[43mflags\u001b[49m\u001b[43m)\u001b[49m\u001b[43m,\u001b[49m\n\u001b[1;32m   2408\u001b[0m \u001b[43m        \u001b[49m\u001b[43mtry_run\u001b[49m\u001b[43m,\u001b[49m\n\u001b[1;32m   2409\u001b[0m \u001b[43m        \u001b[49m\u001b[43moutput\u001b[49m\u001b[43m,\u001b[49m\n\u001b[1;32m   2410\u001b[0m \u001b[43m        \u001b[49m\u001b[43mconfig\u001b[49m\u001b[38;5;241;43m.\u001b[39;49m\u001b[43mcxx\u001b[49m\u001b[43m,\u001b[49m\n\u001b[1;32m   2411\u001b[0m \u001b[43m        \u001b[49m\u001b[43mcomp_args\u001b[49m\u001b[43m,\u001b[49m\n\u001b[1;32m   2412\u001b[0m \u001b[43m    \u001b[49m\u001b[43m)\u001b[49m\n",
      "File \u001b[0;32m~/opt/anaconda3/envs/pydata_2024/lib/python3.12/site-packages/pytensor/link/c/cmodule.py:1910\u001b[0m, in \u001b[0;36mCompiler._try_compile_tmp\u001b[0;34m(cls, src_code, tmp_prefix, flags, try_run, output, compiler, comp_args)\u001b[0m\n\u001b[1;32m   1908\u001b[0m         compilation_ok \u001b[38;5;241m=\u001b[39m \u001b[38;5;28;01mFalse\u001b[39;00m\n\u001b[1;32m   1909\u001b[0m     \u001b[38;5;28;01melif\u001b[39;00m try_run:\n\u001b[0;32m-> 1910\u001b[0m         out, err, p_ret \u001b[38;5;241m=\u001b[39m \u001b[43moutput_subprocess_Popen\u001b[49m\u001b[43m(\u001b[49m\u001b[43m[\u001b[49m\u001b[43mexe_path\u001b[49m\u001b[43m]\u001b[49m\u001b[43m)\u001b[49m\n\u001b[1;32m   1911\u001b[0m         run_ok \u001b[38;5;241m=\u001b[39m p_ret \u001b[38;5;241m==\u001b[39m \u001b[38;5;241m0\u001b[39m\n\u001b[1;32m   1912\u001b[0m \u001b[38;5;28;01mfinally\u001b[39;00m:\n",
      "File \u001b[0;32m~/opt/anaconda3/envs/pydata_2024/lib/python3.12/site-packages/pytensor/utils.py:212\u001b[0m, in \u001b[0;36moutput_subprocess_Popen\u001b[0;34m(command, **params)\u001b[0m\n\u001b[1;32m    209\u001b[0m p \u001b[38;5;241m=\u001b[39m subprocess_Popen(command, \u001b[38;5;241m*\u001b[39m\u001b[38;5;241m*\u001b[39mparams)\n\u001b[1;32m    210\u001b[0m \u001b[38;5;66;03m# we need to use communicate to make sure we don't deadlock around\u001b[39;00m\n\u001b[1;32m    211\u001b[0m \u001b[38;5;66;03m# the stdout/stderr pipe.\u001b[39;00m\n\u001b[0;32m--> 212\u001b[0m out \u001b[38;5;241m=\u001b[39m \u001b[43mp\u001b[49m\u001b[38;5;241;43m.\u001b[39;49m\u001b[43mcommunicate\u001b[49m\u001b[43m(\u001b[49m\u001b[43m)\u001b[49m\n\u001b[1;32m    213\u001b[0m \u001b[38;5;28;01mreturn\u001b[39;00m (\u001b[38;5;241m*\u001b[39mout, p\u001b[38;5;241m.\u001b[39mreturncode)\n",
      "File \u001b[0;32m~/opt/anaconda3/envs/pydata_2024/lib/python3.12/subprocess.py:1209\u001b[0m, in \u001b[0;36mPopen.communicate\u001b[0;34m(self, input, timeout)\u001b[0m\n\u001b[1;32m   1206\u001b[0m     endtime \u001b[38;5;241m=\u001b[39m \u001b[38;5;28;01mNone\u001b[39;00m\n\u001b[1;32m   1208\u001b[0m \u001b[38;5;28;01mtry\u001b[39;00m:\n\u001b[0;32m-> 1209\u001b[0m     stdout, stderr \u001b[38;5;241m=\u001b[39m \u001b[38;5;28;43mself\u001b[39;49m\u001b[38;5;241;43m.\u001b[39;49m\u001b[43m_communicate\u001b[49m\u001b[43m(\u001b[49m\u001b[38;5;28;43minput\u001b[39;49m\u001b[43m,\u001b[49m\u001b[43m \u001b[49m\u001b[43mendtime\u001b[49m\u001b[43m,\u001b[49m\u001b[43m \u001b[49m\u001b[43mtimeout\u001b[49m\u001b[43m)\u001b[49m\n\u001b[1;32m   1210\u001b[0m \u001b[38;5;28;01mexcept\u001b[39;00m \u001b[38;5;167;01mKeyboardInterrupt\u001b[39;00m:\n\u001b[1;32m   1211\u001b[0m     \u001b[38;5;66;03m# https://bugs.python.org/issue25942\u001b[39;00m\n\u001b[1;32m   1212\u001b[0m     \u001b[38;5;66;03m# See the detailed comment in .wait().\u001b[39;00m\n\u001b[1;32m   1213\u001b[0m     \u001b[38;5;28;01mif\u001b[39;00m timeout \u001b[38;5;129;01mis\u001b[39;00m \u001b[38;5;129;01mnot\u001b[39;00m \u001b[38;5;28;01mNone\u001b[39;00m:\n",
      "File \u001b[0;32m~/opt/anaconda3/envs/pydata_2024/lib/python3.12/subprocess.py:2115\u001b[0m, in \u001b[0;36mPopen._communicate\u001b[0;34m(self, input, endtime, orig_timeout)\u001b[0m\n\u001b[1;32m   2108\u001b[0m     \u001b[38;5;28mself\u001b[39m\u001b[38;5;241m.\u001b[39m_check_timeout(endtime, orig_timeout,\n\u001b[1;32m   2109\u001b[0m                         stdout, stderr,\n\u001b[1;32m   2110\u001b[0m                         skip_check_and_raise\u001b[38;5;241m=\u001b[39m\u001b[38;5;28;01mTrue\u001b[39;00m)\n\u001b[1;32m   2111\u001b[0m     \u001b[38;5;28;01mraise\u001b[39;00m \u001b[38;5;167;01mRuntimeError\u001b[39;00m(  \u001b[38;5;66;03m# Impossible :)\u001b[39;00m\n\u001b[1;32m   2112\u001b[0m         \u001b[38;5;124m'\u001b[39m\u001b[38;5;124m_check_timeout(..., skip_check_and_raise=True) \u001b[39m\u001b[38;5;124m'\u001b[39m\n\u001b[1;32m   2113\u001b[0m         \u001b[38;5;124m'\u001b[39m\u001b[38;5;124mfailed to raise TimeoutExpired.\u001b[39m\u001b[38;5;124m'\u001b[39m)\n\u001b[0;32m-> 2115\u001b[0m ready \u001b[38;5;241m=\u001b[39m \u001b[43mselector\u001b[49m\u001b[38;5;241;43m.\u001b[39;49m\u001b[43mselect\u001b[49m\u001b[43m(\u001b[49m\u001b[43mtimeout\u001b[49m\u001b[43m)\u001b[49m\n\u001b[1;32m   2116\u001b[0m \u001b[38;5;28mself\u001b[39m\u001b[38;5;241m.\u001b[39m_check_timeout(endtime, orig_timeout, stdout, stderr)\n\u001b[1;32m   2118\u001b[0m \u001b[38;5;66;03m# XXX Rewrite these to use non-blocking I/O on the file\u001b[39;00m\n\u001b[1;32m   2119\u001b[0m \u001b[38;5;66;03m# objects; they are no longer using C stdio!\u001b[39;00m\n",
      "File \u001b[0;32m~/opt/anaconda3/envs/pydata_2024/lib/python3.12/selectors.py:415\u001b[0m, in \u001b[0;36m_PollLikeSelector.select\u001b[0;34m(self, timeout)\u001b[0m\n\u001b[1;32m    413\u001b[0m ready \u001b[38;5;241m=\u001b[39m []\n\u001b[1;32m    414\u001b[0m \u001b[38;5;28;01mtry\u001b[39;00m:\n\u001b[0;32m--> 415\u001b[0m     fd_event_list \u001b[38;5;241m=\u001b[39m \u001b[38;5;28;43mself\u001b[39;49m\u001b[38;5;241;43m.\u001b[39;49m\u001b[43m_selector\u001b[49m\u001b[38;5;241;43m.\u001b[39;49m\u001b[43mpoll\u001b[49m\u001b[43m(\u001b[49m\u001b[43mtimeout\u001b[49m\u001b[43m)\u001b[49m\n\u001b[1;32m    416\u001b[0m \u001b[38;5;28;01mexcept\u001b[39;00m \u001b[38;5;167;01mInterruptedError\u001b[39;00m:\n\u001b[1;32m    417\u001b[0m     \u001b[38;5;28;01mreturn\u001b[39;00m ready\n",
      "\u001b[0;31mKeyboardInterrupt\u001b[0m: "
     ]
    }
   ],
   "source": [
    "import arviz as az\n",
    "\n",
    "import causalpy as cp\n"
   ]
  },
  {
   "cell_type": "markdown",
   "metadata": {},
   "source": []
  },
  {
   "cell_type": "code",
   "execution_count": null,
   "metadata": {},
   "outputs": [],
   "source": [
    "%load_ext autoreload\n",
    "%autoreload 2\n",
    "%config InlineBackend.figure_format = 'retina'\n",
    "seed = 42"
   ]
  },
  {
   "cell_type": "code",
   "execution_count": null,
   "metadata": {},
   "outputs": [],
   "source": [
    "df = cp.load_data(\"sc\")\n",
    "treatment_time = 70"
   ]
  },
  {
   "cell_type": "code",
   "execution_count": null,
   "metadata": {},
   "outputs": [],
   "source": [
    "# Note, we do not want an intercept in this model\n",
    "result = cp.pymc_experiments.SyntheticControl(\n",
    "    df,\n",
    "    treatment_time,\n",
    "    formula=\"actual ~ 0 + a + b + c + d + e + f + g\",\n",
    "    model=cp.pymc_models.WeightedSumFitter(\n",
    "        sample_kwargs={\"target_accept\": 0.95, \"random_seed\": seed}\n",
    "    ),\n",
    ")"
   ]
  },
  {
   "cell_type": "code",
   "execution_count": null,
   "metadata": {},
   "outputs": [],
   "source": [
    "fig, ax = result.plot(plot_predictors=True)"
   ]
  },
  {
   "cell_type": "code",
   "execution_count": null,
   "metadata": {},
   "outputs": [],
   "source": [
    "result.summary()"
   ]
  },
  {
   "cell_type": "code",
   "execution_count": null,
   "metadata": {},
   "outputs": [],
   "source": [
    "az.summary(result.post_impact.mean(\"obs_ind\"))"
   ]
  },
  {
   "cell_type": "code",
   "execution_count": null,
   "metadata": {},
   "outputs": [],
   "source": []
  }
 ],
 "metadata": {
  "kernelspec": {
   "display_name": "causal_venv",
   "language": "python",
   "name": "python3"
  },
  "language_info": {
   "codemirror_mode": {
    "name": "ipython",
    "version": 3
   },
   "file_extension": ".py",
   "mimetype": "text/x-python",
   "name": "python",
   "nbconvert_exporter": "python",
   "pygments_lexer": "ipython3",
   "version": "3.12.4"
  }
 },
 "nbformat": 4,
 "nbformat_minor": 2
}
